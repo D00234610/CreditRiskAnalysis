{
 "cells": [
  {
   "cell_type": "code",
   "execution_count": 1,
   "id": "labeled-alcohol",
   "metadata": {},
   "outputs": [],
   "source": [
    "#import the relevant libraries\n",
    "import pandas as pd\n",
    "import numpy as np\n",
    "import seaborn as sns\n",
    "import matplotlib.pyplot as plt"
   ]
  },
  {
   "cell_type": "code",
   "execution_count": 2,
   "id": "spare-arlington",
   "metadata": {},
   "outputs": [
    {
     "name": "stderr",
     "output_type": "stream",
     "text": [
      "c:\\users\\caroline sanjana\\appdata\\local\\programs\\python\\python36\\lib\\site-packages\\IPython\\core\\interactiveshell.py:3072: DtypeWarning: Columns (17,45,53) have mixed types.Specify dtype option on import or set low_memory=False.\n",
      "  interactivity=interactivity, compiler=compiler, result=result)\n"
     ]
    },
    {
     "name": "stdout",
     "output_type": "stream",
     "text": [
      "<class 'pandas.core.frame.DataFrame'>\n",
      "RangeIndex: 855969 entries, 0 to 855968\n",
      "Data columns (total 73 columns):\n",
      " #   Column                       Non-Null Count   Dtype  \n",
      "---  ------                       --------------   -----  \n",
      " 0   id                           855969 non-null  int64  \n",
      " 1   member_id                    855969 non-null  int64  \n",
      " 2   loan_amnt                    855969 non-null  float64\n",
      " 3   funded_amnt                  855969 non-null  float64\n",
      " 4   funded_amnt_inv              855969 non-null  float64\n",
      " 5   term                         855969 non-null  object \n",
      " 6   int_rate                     855969 non-null  float64\n",
      " 7   installment                  855969 non-null  float64\n",
      " 8   grade                        855969 non-null  object \n",
      " 9   sub_grade                    855969 non-null  object \n",
      " 10  emp_title                    806526 non-null  object \n",
      " 11  emp_length                   812908 non-null  object \n",
      " 12  home_ownership               855969 non-null  object \n",
      " 13  annual_inc                   855969 non-null  float64\n",
      " 14  verification_status          855969 non-null  object \n",
      " 15  issue_d                      855969 non-null  object \n",
      " 16  pymnt_plan                   855969 non-null  object \n",
      " 17  desc                         121812 non-null  object \n",
      " 18  purpose                      855969 non-null  object \n",
      " 19  title                        855936 non-null  object \n",
      " 20  zip_code                     855969 non-null  object \n",
      " 21  addr_state                   855969 non-null  object \n",
      " 22  dti                          855969 non-null  float64\n",
      " 23  delinq_2yrs                  855969 non-null  float64\n",
      " 24  earliest_cr_line             855969 non-null  object \n",
      " 25  inq_last_6mths               855969 non-null  float64\n",
      " 26  mths_since_last_delinq       416157 non-null  float64\n",
      " 27  mths_since_last_record       131184 non-null  float64\n",
      " 28  open_acc                     855969 non-null  float64\n",
      " 29  pub_rec                      855969 non-null  float64\n",
      " 30  revol_bal                    855969 non-null  float64\n",
      " 31  revol_util                   855523 non-null  float64\n",
      " 32  total_acc                    855969 non-null  float64\n",
      " 33  initial_list_status          855969 non-null  object \n",
      " 34  out_prncp                    855969 non-null  float64\n",
      " 35  out_prncp_inv                855969 non-null  float64\n",
      " 36  total_pymnt                  855969 non-null  float64\n",
      " 37  total_pymnt_inv              855969 non-null  float64\n",
      " 38  total_rec_prncp              855969 non-null  float64\n",
      " 39  total_rec_int                855969 non-null  float64\n",
      " 40  total_rec_late_fee           855969 non-null  float64\n",
      " 41  recoveries                   855969 non-null  float64\n",
      " 42  collection_recovery_fee      855969 non-null  float64\n",
      " 43  last_pymnt_d                 847107 non-null  object \n",
      " 44  last_pymnt_amnt              855969 non-null  float64\n",
      " 45  next_pymnt_d                 602998 non-null  object \n",
      " 46  last_credit_pull_d           855919 non-null  object \n",
      " 47  collections_12_mths_ex_med   855913 non-null  float64\n",
      " 48  mths_since_last_major_derog  213139 non-null  float64\n",
      " 49  policy_code                  855969 non-null  float64\n",
      " 50  application_type             855969 non-null  object \n",
      " 51  annual_inc_joint             442 non-null     float64\n",
      " 52  dti_joint                    440 non-null     float64\n",
      " 53  verification_status_joint    442 non-null     object \n",
      " 54  acc_now_delinq               855969 non-null  float64\n",
      " 55  tot_coll_amt                 788656 non-null  float64\n",
      " 56  tot_cur_bal                  788656 non-null  float64\n",
      " 57  open_acc_6m                  13288 non-null   float64\n",
      " 58  open_il_6m                   13288 non-null   float64\n",
      " 59  open_il_12m                  13288 non-null   float64\n",
      " 60  open_il_24m                  13288 non-null   float64\n",
      " 61  mths_since_rcnt_il           12934 non-null   float64\n",
      " 62  total_bal_il                 13288 non-null   float64\n",
      " 63  il_util                      11609 non-null   float64\n",
      " 64  open_rv_12m                  13288 non-null   float64\n",
      " 65  open_rv_24m                  13288 non-null   float64\n",
      " 66  max_bal_bc                   13288 non-null   float64\n",
      " 67  all_util                     13288 non-null   float64\n",
      " 68  total_rev_hi_lim             788656 non-null  float64\n",
      " 69  inq_fi                       13288 non-null   float64\n",
      " 70  total_cu_tl                  13288 non-null   float64\n",
      " 71  inq_last_12m                 13288 non-null   float64\n",
      " 72  default_ind                  855969 non-null  int64  \n",
      "dtypes: float64(49), int64(3), object(21)\n",
      "memory usage: 476.7+ MB\n"
     ]
    }
   ],
   "source": [
    "#read the data from the local text file downloaded from Kaggle\n",
    "xyz = pd.read_csv(\"C:/Users/Caroline Sanjana/Desktop/Final thesis/XYZ_LendingCorp.txt\", sep='\\t')\n",
    "xyz.info()"
   ]
  },
  {
   "cell_type": "code",
   "execution_count": 3,
   "id": "coordinate-siemens",
   "metadata": {},
   "outputs": [
    {
     "data": {
      "text/html": [
       "<div>\n",
       "<style scoped>\n",
       "    .dataframe tbody tr th:only-of-type {\n",
       "        vertical-align: middle;\n",
       "    }\n",
       "\n",
       "    .dataframe tbody tr th {\n",
       "        vertical-align: top;\n",
       "    }\n",
       "\n",
       "    .dataframe thead th {\n",
       "        text-align: right;\n",
       "    }\n",
       "</style>\n",
       "<table border=\"1\" class=\"dataframe\">\n",
       "  <thead>\n",
       "    <tr style=\"text-align: right;\">\n",
       "      <th></th>\n",
       "      <th>id</th>\n",
       "      <th>member_id</th>\n",
       "      <th>loan_amnt</th>\n",
       "      <th>funded_amnt</th>\n",
       "      <th>funded_amnt_inv</th>\n",
       "      <th>term</th>\n",
       "      <th>int_rate</th>\n",
       "      <th>installment</th>\n",
       "      <th>grade</th>\n",
       "      <th>sub_grade</th>\n",
       "      <th>...</th>\n",
       "      <th>il_util</th>\n",
       "      <th>open_rv_12m</th>\n",
       "      <th>open_rv_24m</th>\n",
       "      <th>max_bal_bc</th>\n",
       "      <th>all_util</th>\n",
       "      <th>total_rev_hi_lim</th>\n",
       "      <th>inq_fi</th>\n",
       "      <th>total_cu_tl</th>\n",
       "      <th>inq_last_12m</th>\n",
       "      <th>default_ind</th>\n",
       "    </tr>\n",
       "  </thead>\n",
       "  <tbody>\n",
       "    <tr>\n",
       "      <th>0</th>\n",
       "      <td>1077501</td>\n",
       "      <td>1296599</td>\n",
       "      <td>5000.0</td>\n",
       "      <td>5000.0</td>\n",
       "      <td>4975.0</td>\n",
       "      <td>36 months</td>\n",
       "      <td>10.65</td>\n",
       "      <td>162.87</td>\n",
       "      <td>B</td>\n",
       "      <td>B2</td>\n",
       "      <td>...</td>\n",
       "      <td>NaN</td>\n",
       "      <td>NaN</td>\n",
       "      <td>NaN</td>\n",
       "      <td>NaN</td>\n",
       "      <td>NaN</td>\n",
       "      <td>NaN</td>\n",
       "      <td>NaN</td>\n",
       "      <td>NaN</td>\n",
       "      <td>NaN</td>\n",
       "      <td>0</td>\n",
       "    </tr>\n",
       "    <tr>\n",
       "      <th>1</th>\n",
       "      <td>1077430</td>\n",
       "      <td>1314167</td>\n",
       "      <td>2500.0</td>\n",
       "      <td>2500.0</td>\n",
       "      <td>2500.0</td>\n",
       "      <td>60 months</td>\n",
       "      <td>15.27</td>\n",
       "      <td>59.83</td>\n",
       "      <td>C</td>\n",
       "      <td>C4</td>\n",
       "      <td>...</td>\n",
       "      <td>NaN</td>\n",
       "      <td>NaN</td>\n",
       "      <td>NaN</td>\n",
       "      <td>NaN</td>\n",
       "      <td>NaN</td>\n",
       "      <td>NaN</td>\n",
       "      <td>NaN</td>\n",
       "      <td>NaN</td>\n",
       "      <td>NaN</td>\n",
       "      <td>1</td>\n",
       "    </tr>\n",
       "    <tr>\n",
       "      <th>2</th>\n",
       "      <td>1077175</td>\n",
       "      <td>1313524</td>\n",
       "      <td>2400.0</td>\n",
       "      <td>2400.0</td>\n",
       "      <td>2400.0</td>\n",
       "      <td>36 months</td>\n",
       "      <td>15.96</td>\n",
       "      <td>84.33</td>\n",
       "      <td>C</td>\n",
       "      <td>C5</td>\n",
       "      <td>...</td>\n",
       "      <td>NaN</td>\n",
       "      <td>NaN</td>\n",
       "      <td>NaN</td>\n",
       "      <td>NaN</td>\n",
       "      <td>NaN</td>\n",
       "      <td>NaN</td>\n",
       "      <td>NaN</td>\n",
       "      <td>NaN</td>\n",
       "      <td>NaN</td>\n",
       "      <td>0</td>\n",
       "    </tr>\n",
       "    <tr>\n",
       "      <th>3</th>\n",
       "      <td>1076863</td>\n",
       "      <td>1277178</td>\n",
       "      <td>10000.0</td>\n",
       "      <td>10000.0</td>\n",
       "      <td>10000.0</td>\n",
       "      <td>36 months</td>\n",
       "      <td>13.49</td>\n",
       "      <td>339.31</td>\n",
       "      <td>C</td>\n",
       "      <td>C1</td>\n",
       "      <td>...</td>\n",
       "      <td>NaN</td>\n",
       "      <td>NaN</td>\n",
       "      <td>NaN</td>\n",
       "      <td>NaN</td>\n",
       "      <td>NaN</td>\n",
       "      <td>NaN</td>\n",
       "      <td>NaN</td>\n",
       "      <td>NaN</td>\n",
       "      <td>NaN</td>\n",
       "      <td>0</td>\n",
       "    </tr>\n",
       "    <tr>\n",
       "      <th>4</th>\n",
       "      <td>1075358</td>\n",
       "      <td>1311748</td>\n",
       "      <td>3000.0</td>\n",
       "      <td>3000.0</td>\n",
       "      <td>3000.0</td>\n",
       "      <td>60 months</td>\n",
       "      <td>12.69</td>\n",
       "      <td>67.79</td>\n",
       "      <td>B</td>\n",
       "      <td>B5</td>\n",
       "      <td>...</td>\n",
       "      <td>NaN</td>\n",
       "      <td>NaN</td>\n",
       "      <td>NaN</td>\n",
       "      <td>NaN</td>\n",
       "      <td>NaN</td>\n",
       "      <td>NaN</td>\n",
       "      <td>NaN</td>\n",
       "      <td>NaN</td>\n",
       "      <td>NaN</td>\n",
       "      <td>0</td>\n",
       "    </tr>\n",
       "  </tbody>\n",
       "</table>\n",
       "<p>5 rows × 73 columns</p>\n",
       "</div>"
      ],
      "text/plain": [
       "        id  member_id  loan_amnt  funded_amnt  funded_amnt_inv        term  \\\n",
       "0  1077501    1296599     5000.0       5000.0           4975.0   36 months   \n",
       "1  1077430    1314167     2500.0       2500.0           2500.0   60 months   \n",
       "2  1077175    1313524     2400.0       2400.0           2400.0   36 months   \n",
       "3  1076863    1277178    10000.0      10000.0          10000.0   36 months   \n",
       "4  1075358    1311748     3000.0       3000.0           3000.0   60 months   \n",
       "\n",
       "   int_rate  installment grade sub_grade  ... il_util open_rv_12m open_rv_24m  \\\n",
       "0     10.65       162.87     B        B2  ...     NaN         NaN         NaN   \n",
       "1     15.27        59.83     C        C4  ...     NaN         NaN         NaN   \n",
       "2     15.96        84.33     C        C5  ...     NaN         NaN         NaN   \n",
       "3     13.49       339.31     C        C1  ...     NaN         NaN         NaN   \n",
       "4     12.69        67.79     B        B5  ...     NaN         NaN         NaN   \n",
       "\n",
       "   max_bal_bc all_util total_rev_hi_lim inq_fi total_cu_tl inq_last_12m  \\\n",
       "0         NaN      NaN              NaN    NaN         NaN          NaN   \n",
       "1         NaN      NaN              NaN    NaN         NaN          NaN   \n",
       "2         NaN      NaN              NaN    NaN         NaN          NaN   \n",
       "3         NaN      NaN              NaN    NaN         NaN          NaN   \n",
       "4         NaN      NaN              NaN    NaN         NaN          NaN   \n",
       "\n",
       "  default_ind  \n",
       "0           0  \n",
       "1           1  \n",
       "2           0  \n",
       "3           0  \n",
       "4           0  \n",
       "\n",
       "[5 rows x 73 columns]"
      ]
     },
     "execution_count": 3,
     "metadata": {},
     "output_type": "execute_result"
    }
   ],
   "source": [
    "#view the fisrt 5 rows in the dataset\n",
    "xyz.head()"
   ]
  },
  {
   "cell_type": "code",
   "execution_count": 4,
   "id": "fewer-causing",
   "metadata": {},
   "outputs": [
    {
     "data": {
      "text/plain": [
       "(855969, 73)"
      ]
     },
     "execution_count": 4,
     "metadata": {},
     "output_type": "execute_result"
    }
   ],
   "source": [
    "#the total number of rows and columns in the data\n",
    "xyz.shape"
   ]
  },
  {
   "cell_type": "code",
   "execution_count": 5,
   "id": "humanitarian-wisdom",
   "metadata": {},
   "outputs": [
    {
     "data": {
      "text/plain": [
       "id                       0\n",
       "member_id                0\n",
       "loan_amnt                0\n",
       "funded_amnt              0\n",
       "funded_amnt_inv          0\n",
       "                     ...  \n",
       "total_rev_hi_lim     67313\n",
       "inq_fi              842681\n",
       "total_cu_tl         842681\n",
       "inq_last_12m        842681\n",
       "default_ind              0\n",
       "Length: 73, dtype: int64"
      ]
     },
     "execution_count": 5,
     "metadata": {},
     "output_type": "execute_result"
    }
   ],
   "source": [
    "# look for null values in the data\n",
    "xyz.isnull().sum()"
   ]
  },
  {
   "cell_type": "markdown",
   "id": "terminal-diagram",
   "metadata": {},
   "source": [
    "# Data Visualization"
   ]
  },
  {
   "cell_type": "code",
   "execution_count": 6,
   "id": "laughing-scientist",
   "metadata": {},
   "outputs": [],
   "source": [
    "#1.Visuliaze the loan amounts in the datset and identify pattern of loans issued\n",
    "#store the list of values of the loan amount, funded amount and investor fundsin a dict \n",
    "\n",
    "loan_amount = xyz[\"loan_amnt\"].values\n",
    "funded_amount = xyz[\"funded_amnt\"].values\n",
    "investor_funded_amount = xyz[\"funded_amnt_inv\"].values"
   ]
  },
  {
   "cell_type": "code",
   "execution_count": 7,
   "id": "unexpected-bathroom",
   "metadata": {},
   "outputs": [
    {
     "name": "stderr",
     "output_type": "stream",
     "text": [
      "c:\\users\\caroline sanjana\\appdata\\local\\programs\\python\\python36\\lib\\site-packages\\seaborn\\distributions.py:2557: FutureWarning: `distplot` is a deprecated function and will be removed in a future version. Please adapt your code to use either `displot` (a figure-level function with similar flexibility) or `histplot` (an axes-level function for histograms).\n",
      "  warnings.warn(msg, FutureWarning)\n",
      "c:\\users\\caroline sanjana\\appdata\\local\\programs\\python\\python36\\lib\\site-packages\\seaborn\\distributions.py:2557: FutureWarning: `distplot` is a deprecated function and will be removed in a future version. Please adapt your code to use either `displot` (a figure-level function with similar flexibility) or `histplot` (an axes-level function for histograms).\n",
      "  warnings.warn(msg, FutureWarning)\n",
      "c:\\users\\caroline sanjana\\appdata\\local\\programs\\python\\python36\\lib\\site-packages\\seaborn\\distributions.py:2557: FutureWarning: `distplot` is a deprecated function and will be removed in a future version. Please adapt your code to use either `displot` (a figure-level function with similar flexibility) or `histplot` (an axes-level function for histograms).\n",
      "  warnings.warn(msg, FutureWarning)\n"
     ]
    },
    {
     "data": {
      "text/plain": [
       "Text(0.5, 1.0, 'Funded Amount by the Investors')"
      ]
     },
     "execution_count": 7,
     "metadata": {},
     "output_type": "execute_result"
    },
    {
     "data": {
      "image/png": "[encoded data removed]",
      "text/plain": [
       "<Figure size 1080x360 with 3 Axes>"
      ]
     },
     "metadata": {
      "needs_background": "light"
     },
     "output_type": "display_data"
    }
   ],
   "source": [
    "#create subplots to understand the distribution of amonuts \n",
    "fig, ax = plt.subplots(1, 3, figsize=(15,5))\n",
    "\n",
    "#loan amount applied by borrower\n",
    "sns.distplot(loan_amount, ax=ax[0], color=\"g\")\n",
    "ax[0].set_title(\"Loan Amount Applied by the borrower\")\n",
    "\n",
    "#loan amount funded to the borrower from lender\n",
    "sns.distplot(funded_amount, ax=ax[1], color='r')\n",
    "ax[1].set_title(\"Loan Amount Funded to the borrower\")\n",
    "\n",
    "#funded amount by the investors \n",
    "sns.distplot(investor_funded_amount, ax=ax[2], color='b')\n",
    "ax[2].set_title(\"Funded Amount by the Investors\") \n",
    "\n",
    "#From the plots it can observed that the loan amounts range between 10000 and 20000.\n",
    "#There are obvious peaks."
   ]
  },
  {
   "cell_type": "code",
   "execution_count": 8,
   "id": "hungry-offer",
   "metadata": {},
   "outputs": [
    {
     "name": "stderr",
     "output_type": "stream",
     "text": [
      "c:\\users\\caroline sanjana\\appdata\\local\\programs\\python\\python36\\lib\\site-packages\\seaborn\\_decorators.py:43: FutureWarning: Pass the following variable as a keyword arg: x. From version 0.12, the only valid positional argument will be `data`, and passing other arguments without an explicit keyword will result in an error or misinterpretation.\n",
      "  FutureWarning\n"
     ]
    },
    {
     "data": {
      "text/plain": [
       "<Figure size 1080x360 with 0 Axes>"
      ]
     },
     "execution_count": 8,
     "metadata": {},
     "output_type": "execute_result"
    },
    {
     "data": {
      "image/png": "[encoded data removed]",
      "text/plain": [
       "<Figure size 432x288 with 1 Axes>"
      ]
     },
     "metadata": {
      "needs_background": "light"
     },
     "output_type": "display_data"
    },
    {
     "data": {
      "text/plain": [
       "<Figure size 1080x360 with 0 Axes>"
      ]
     },
     "metadata": {},
     "output_type": "display_data"
    }
   ],
   "source": [
    "#distribution of loan term \n",
    "#convert the object to value counts\n",
    "sns.countplot('term', data=xyz, palette=\"Paired\").set(title='Distribution of Loan Term')\n",
    "plt.figure(figsize=(15,5))\n",
    "#from the graph we can observe that the loan terms with 36 months are higher than 60 months."
   ]
  },
  {
   "cell_type": "code",
   "execution_count": 9,
   "id": "indirect-indian",
   "metadata": {},
   "outputs": [
    {
     "data": {
      "text/plain": [
       "<Figure size 1080x360 with 0 Axes>"
      ]
     },
     "execution_count": 9,
     "metadata": {},
     "output_type": "execute_result"
    },
    {
     "data": {
      "image/png": "[encoded data removed]",
      "text/plain": [
       "<Figure size 432x288 with 1 Axes>"
      ]
     },
     "metadata": {
      "needs_background": "light"
     },
     "output_type": "display_data"
    },
    {
     "data": {
      "text/plain": [
       "<Figure size 1080x360 with 0 Axes>"
      ]
     },
     "metadata": {},
     "output_type": "display_data"
    }
   ],
   "source": [
    "#loan amount by term\n",
    "sns.boxplot(x=xyz.term, y=xyz.loan_amnt).set_title('Loan Amount by Term')\n",
    "plt.figure(figsize=(15,5))\n",
    "#from the graph we can observe that the loan amount taken for a longer term period is higher."
   ]
  },
  {
   "cell_type": "code",
   "execution_count": 10,
   "id": "complicated-reynolds",
   "metadata": {},
   "outputs": [
    {
     "name": "stderr",
     "output_type": "stream",
     "text": [
      "c:\\users\\caroline sanjana\\appdata\\local\\programs\\python\\python36\\lib\\site-packages\\seaborn\\distributions.py:2557: FutureWarning: `distplot` is a deprecated function and will be removed in a future version. Please adapt your code to use either `displot` (a figure-level function with similar flexibility) or `histplot` (an axes-level function for histograms).\n",
      "  warnings.warn(msg, FutureWarning)\n",
      "c:\\users\\caroline sanjana\\appdata\\local\\programs\\python\\python36\\lib\\site-packages\\seaborn\\distributions.py:2557: FutureWarning: `distplot` is a deprecated function and will be removed in a future version. Please adapt your code to use either `displot` (a figure-level function with similar flexibility) or `histplot` (an axes-level function for histograms).\n",
      "  warnings.warn(msg, FutureWarning)\n"
     ]
    },
    {
     "data": {
      "text/plain": [
       "Text(0.5, 1.0, 'Number of Installments')"
      ]
     },
     "execution_count": 10,
     "metadata": {},
     "output_type": "execute_result"
    },
    {
     "data": {
      "image/png": "[encoded data removed]",
      "text/plain": [
       "<Figure size 1080x360 with 2 Axes>"
      ]
     },
     "metadata": {
      "needs_background": "light"
     },
     "output_type": "display_data"
    }
   ],
   "source": [
    "#distribution of interest rates and installments \n",
    "#create subplots to understand the distribution of amonuts \n",
    "fig, ax = plt.subplots(1, 2, figsize=(15,5))\n",
    "\n",
    "#number of installments in the loan term\n",
    "sns.distplot(xyz['int_rate'], ax=ax[0], color=\"g\")\n",
    "ax[0].set_title(\"Interest Rates\")\n",
    "\n",
    "#loan amount funded to the borrower from lender\n",
    "sns.distplot(xyz['installment'], ax=ax[1], color='r')\n",
    "ax[1].set_title(\"Number of Installments\")\n",
    "\n",
    "#from the graph it can be observed that the interest rates were mostly between 10 and 15 percent\n",
    "# the highest number of insatllmets were 300.\n",
    "# also the loan term period is correlated with the number of installlments the longer the loan term the lesser the number of installemnts "
   ]
  },
  {
   "cell_type": "code",
   "execution_count": 11,
   "id": "laden-bidding",
   "metadata": {},
   "outputs": [
    {
     "name": "stderr",
     "output_type": "stream",
     "text": [
      "c:\\users\\caroline sanjana\\appdata\\local\\programs\\python\\python36\\lib\\site-packages\\seaborn\\_decorators.py:43: FutureWarning: Pass the following variable as a keyword arg: x. From version 0.12, the only valid positional argument will be `data`, and passing other arguments without an explicit keyword will result in an error or misinterpretation.\n",
      "  FutureWarning\n"
     ]
    },
    {
     "data": {
      "text/plain": [
       "<Figure size 1080x360 with 0 Axes>"
      ]
     },
     "execution_count": 11,
     "metadata": {},
     "output_type": "execute_result"
    },
    {
     "data": {
      "image/png": "[encoded data removed]",
      "text/plain": [
       "<Figure size 432x288 with 1 Axes>"
      ]
     },
     "metadata": {
      "needs_background": "light"
     },
     "output_type": "display_data"
    },
    {
     "data": {
      "text/plain": [
       "<Figure size 1080x360 with 0 Axes>"
      ]
     },
     "metadata": {},
     "output_type": "display_data"
    }
   ],
   "source": [
    "#vislaize the grades of the loan that range from A to G\n",
    "sns.countplot('grade', data=xyz, palette='hls').set(title='Distribution of Loan Grades')\n",
    "plt.figure(figsize=(15,5))\n",
    "#from the graph it is observed that the number of B grade loans were funded the highest"
   ]
  },
  {
   "cell_type": "code",
   "execution_count": 12,
   "id": "approximate-advisory",
   "metadata": {},
   "outputs": [
    {
     "data": {
      "text/plain": [
       "Text(0.5, 1.0, 'Verfication status of the loan amounts')"
      ]
     },
     "execution_count": 12,
     "metadata": {},
     "output_type": "execute_result"
    },
    {
     "data": {
      "image/png": "[encoded data removed]",
      "text/plain": [
       "<Figure size 432x288 with 1 Axes>"
      ]
     },
     "metadata": {
      "needs_background": "light"
     },
     "output_type": "display_data"
    }
   ],
   "source": [
    "#verfication status of the loan applied \n",
    "sns.barplot(x=\"verification_status\", y=\"loan_amnt\", data=xyz)\n",
    "plt.title(\"Verfication status of the loan amounts\")\n",
    "#from the graph it can be observed that most loan amounts upto 17400 were completely verified."
   ]
  },
  {
   "cell_type": "code",
   "execution_count": 13,
   "id": "closed-rider",
   "metadata": {},
   "outputs": [
    {
     "data": {
      "text/plain": [
       "<matplotlib.legend.Legend at 0x12d81dc10b8>"
      ]
     },
     "execution_count": 13,
     "metadata": {},
     "output_type": "execute_result"
    },
    {
     "data": {
      "image/png": "[encoded data removed]",
      "text/plain": [
       "<Figure size 432x288 with 1 Axes>"
      ]
     },
     "metadata": {
      "needs_background": "light"
     },
     "output_type": "display_data"
    }
   ],
   "source": [
    "#the loan amount by the verification status with the term period\n",
    "sns.boxplot(x=xyz.verification_status, y=xyz.loan_amnt, hue=xyz.term, palette=\"Paired\").set_title('Loan Amount and Verification Status by Term')\n",
    "plt.xlabel(\"Verification Status\")\n",
    "plt.ylabel(\"Loan Amount\")\n",
    "plt.legend(bbox_to_anchor=(1, 1), loc=2)"
   ]
  },
  {
   "cell_type": "code",
   "execution_count": 14,
   "id": "coral-bridges",
   "metadata": {},
   "outputs": [
    {
     "data": {
      "text/plain": [
       "0    Dec-2011\n",
       "1    Dec-2011\n",
       "2    Dec-2011\n",
       "3    Dec-2011\n",
       "4    Dec-2011\n",
       "Name: issue_d, dtype: object"
      ]
     },
     "execution_count": 14,
     "metadata": {},
     "output_type": "execute_result"
    }
   ],
   "source": [
    "#Visualize which year was issued the most loans\n",
    "#take the issue date column and convert the dates to a year format\n",
    "xyz['issue_d'].head()"
   ]
  },
  {
   "cell_type": "code",
   "execution_count": 15,
   "id": "ongoing-swaziland",
   "metadata": {},
   "outputs": [],
   "source": [
    "issue_year = pd.to_datetime(xyz['issue_d'])\n",
    "xyz['issue_year'] = issue_year.dt.year"
   ]
  },
  {
   "cell_type": "code",
   "execution_count": 16,
   "id": "wanted-thesis",
   "metadata": {},
   "outputs": [
    {
     "data": {
      "text/plain": [
       "Text(0.5, 1.0, 'Loans Issued by Year')"
      ]
     },
     "execution_count": 16,
     "metadata": {},
     "output_type": "execute_result"
    },
    {
     "data": {
      "image/png": "[encoded data removed]",
      "text/plain": [
       "<Figure size 432x288 with 1 Axes>"
      ]
     },
     "metadata": {
      "needs_background": "light"
     },
     "output_type": "display_data"
    }
   ],
   "source": [
    "#plot a barchart to see the loans issued by every year\n",
    "sns.barplot(x='issue_year', y='loan_amnt', data=xyz, palette='Set2')\n",
    "plt.title(\"Loans Issued by Year\")\n",
    "#from the graph we can observe that the most loans were issued in the year 2015."
   ]
  },
  {
   "cell_type": "code",
   "execution_count": 17,
   "id": "choice-period",
   "metadata": {},
   "outputs": [
    {
     "data": {
      "text/plain": [
       "(array([ 0,  1,  2,  3,  4,  5,  6,  7,  8,  9, 10, 11, 12, 13]),\n",
       " [Text(0, 0, 'credit_card'),\n",
       "  Text(1, 0, 'car'),\n",
       "  Text(2, 0, 'small_business'),\n",
       "  Text(3, 0, 'other'),\n",
       "  Text(4, 0, 'wedding'),\n",
       "  Text(5, 0, 'debt_consolidation'),\n",
       "  Text(6, 0, 'home_improvement'),\n",
       "  Text(7, 0, 'major_purchase'),\n",
       "  Text(8, 0, 'medical'),\n",
       "  Text(9, 0, 'moving'),\n",
       "  Text(10, 0, 'vacation'),\n",
       "  Text(11, 0, 'house'),\n",
       "  Text(12, 0, 'renewable_energy'),\n",
       "  Text(13, 0, 'educational')])"
      ]
     },
     "execution_count": 17,
     "metadata": {},
     "output_type": "execute_result"
    },
    {
     "data": {
      "image/png": "[encoded data removed]",
      "text/plain": [
       "<Figure size 432x288 with 1 Axes>"
      ]
     },
     "metadata": {
      "needs_background": "light"
     },
     "output_type": "display_data"
    }
   ],
   "source": [
    "#plot the purpose of the loan being applied by the borrower\n",
    "\n",
    "sns.barplot(x='purpose', y='loan_amnt', data=xyz, palette='hls')\n",
    "plt.title(\"Purpose of Loan\")\n",
    "plt.xticks(rotation=60)"
   ]
  },
  {
   "cell_type": "code",
   "execution_count": 18,
   "id": "split-walker",
   "metadata": {},
   "outputs": [
    {
     "name": "stderr",
     "output_type": "stream",
     "text": [
      "c:\\users\\caroline sanjana\\appdata\\local\\programs\\python\\python36\\lib\\site-packages\\seaborn\\_decorators.py:43: FutureWarning: Pass the following variable as a keyword arg: x. From version 0.12, the only valid positional argument will be `data`, and passing other arguments without an explicit keyword will result in an error or misinterpretation.\n",
      "  FutureWarning\n"
     ]
    },
    {
     "data": {
      "text/plain": [
       "Text(0.5, 0, 'Default Indicator')"
      ]
     },
     "execution_count": 18,
     "metadata": {},
     "output_type": "execute_result"
    },
    {
     "data": {
      "image/png": "[encoded data removed]",
      "text/plain": [
       "<Figure size 432x288 with 1 Axes>"
      ]
     },
     "metadata": {
      "needs_background": "light"
     },
     "output_type": "display_data"
    }
   ],
   "source": [
    "#the target varible is the deafult indicator that are of two classes 0 and 1\n",
    "# 0: Non-Defaulter, 1: Defaulter \n",
    "\n",
    "sns.countplot('default_ind', data=xyz, palette=\"viridis\").set(title='Distribution of Defaulters and Non-Defaulters')\n",
    "plt.xlabel(\"Default Indicator\")\n",
    "\n",
    "#it is observed that there are more number of non-defaulters than the defaulters"
   ]
  },
  {
   "cell_type": "code",
   "execution_count": 19,
   "id": "welcome-consideration",
   "metadata": {},
   "outputs": [
    {
     "data": {
      "text/plain": [
       "Text(0, 0.5, 'Loan_Amount')"
      ]
     },
     "execution_count": 19,
     "metadata": {},
     "output_type": "execute_result"
    },
    {
     "data": {
      "image/png": "[encoded data removed]",
      "text/plain": [
       "<Figure size 432x288 with 1 Axes>"
      ]
     },
     "metadata": {
      "needs_background": "light"
     },
     "output_type": "display_data"
    }
   ],
   "source": [
    "#loan amount by default indicator\n",
    "\n",
    "sns.boxplot(x=xyz.default_ind, y=xyz.loan_amnt, palette=\"Set2\").set_title('Loan Amount by Default Indicator')\n",
    "plt.xlabel(\"Default Indicator\")\n",
    "plt.ylabel(\"Loan_Amount\")\n",
    "#from the graph it can be observed that there are equal defaulters and non-defaulters upto"
   ]
  },
  {
   "cell_type": "code",
   "execution_count": 20,
   "id": "satellite-filing",
   "metadata": {},
   "outputs": [
    {
     "data": {
      "text/plain": [
       "Text(0.5, 1.0, 'Default Indicator by Income')"
      ]
     },
     "execution_count": 20,
     "metadata": {},
     "output_type": "execute_result"
    },
    {
     "data": {
      "image/png": "[encoded data removed]",
      "text/plain": [
       "<Figure size 432x288 with 1 Axes>"
      ]
     },
     "metadata": {
      "needs_background": "light"
     },
     "output_type": "display_data"
    }
   ],
   "source": [
    "#default indicator by annual income\n",
    "sns.barplot(x='default_ind', y='annual_inc', data=xyz, palette='hls')\n",
    "plt.title(\"Default Indicator by Income\")\n",
    "#the bar graph shows that the annual income does not have a great impact on defaulting the loan"
   ]
  },
  {
   "cell_type": "markdown",
   "id": "extra-newcastle",
   "metadata": {},
   "source": [
    "# Data Cleaning"
   ]
  },
  {
   "cell_type": "code",
   "execution_count": 21,
   "id": "literary-metadata",
   "metadata": {},
   "outputs": [
    {
     "data": {
      "text/plain": [
       "(855969, 74)"
      ]
     },
     "execution_count": 21,
     "metadata": {},
     "output_type": "execute_result"
    }
   ],
   "source": [
    "#Data Cleaning \n",
    "xyz.shape"
   ]
  },
  {
   "cell_type": "code",
   "execution_count": 22,
   "id": "casual-james",
   "metadata": {},
   "outputs": [
    {
     "data": {
      "text/plain": [
       "0"
      ]
     },
     "execution_count": 22,
     "metadata": {},
     "output_type": "execute_result"
    }
   ],
   "source": [
    "#checking for duplicate values\n",
    "xyz.duplicated().sum()\n",
    "\n",
    "#there are no duplicate values in the data."
   ]
  },
  {
   "cell_type": "code",
   "execution_count": 23,
   "id": "recorded-investment",
   "metadata": {},
   "outputs": [
    {
     "data": {
      "text/plain": [
       "id                      0\n",
       "member_id               0\n",
       "loan_amnt               0\n",
       "funded_amnt             0\n",
       "funded_amnt_inv         0\n",
       "                    ...  \n",
       "inq_fi             842681\n",
       "total_cu_tl        842681\n",
       "inq_last_12m       842681\n",
       "default_ind             0\n",
       "issue_year              0\n",
       "Length: 74, dtype: int64"
      ]
     },
     "execution_count": 23,
     "metadata": {},
     "output_type": "execute_result"
    }
   ],
   "source": [
    "#checking for null values\n",
    "xyz.isnull().sum()"
   ]
  },
  {
   "cell_type": "code",
   "execution_count": 24,
   "id": "secret-receptor",
   "metadata": {},
   "outputs": [
    {
     "data": {
      "text/plain": [
       "desc                           0.857691\n",
       "mths_since_last_record         0.846742\n",
       "mths_since_last_major_derog    0.750997\n",
       "annual_inc_joint               0.999484\n",
       "dti_joint                      0.999486\n",
       "verification_status_joint      0.999484\n",
       "open_acc_6m                    0.984476\n",
       "open_il_6m                     0.984476\n",
       "open_il_12m                    0.984476\n",
       "open_il_24m                    0.984476\n",
       "mths_since_rcnt_il             0.984890\n",
       "total_bal_il                   0.984476\n",
       "il_util                        0.986438\n",
       "open_rv_12m                    0.984476\n",
       "open_rv_24m                    0.984476\n",
       "max_bal_bc                     0.984476\n",
       "all_util                       0.984476\n",
       "inq_fi                         0.984476\n",
       "total_cu_tl                    0.984476\n",
       "inq_last_12m                   0.984476\n",
       "dtype: float64"
      ]
     },
     "execution_count": 24,
     "metadata": {},
     "output_type": "execute_result"
    }
   ],
   "source": [
    "#to find out which varibales in the dataset has missing values more that 75%\n",
    "\n",
    "missing_val = xyz.isnull().sum()/len(xyz)\n",
    "missing_var = missing_val[missing_val > 0.75]\n",
    "missing_var"
   ]
  },
  {
   "cell_type": "code",
   "execution_count": 25,
   "id": "completed-plane",
   "metadata": {},
   "outputs": [
    {
     "data": {
      "text/plain": [
       "Index(['desc', 'mths_since_last_record', 'mths_since_last_major_derog',\n",
       "       'annual_inc_joint', 'dti_joint', 'verification_status_joint',\n",
       "       'open_acc_6m', 'open_il_6m', 'open_il_12m', 'open_il_24m',\n",
       "       'mths_since_rcnt_il', 'total_bal_il', 'il_util', 'open_rv_12m',\n",
       "       'open_rv_24m', 'max_bal_bc', 'all_util', 'inq_fi', 'total_cu_tl',\n",
       "       'inq_last_12m'],\n",
       "      dtype='object')"
      ]
     },
     "execution_count": 25,
     "metadata": {},
     "output_type": "execute_result"
    }
   ],
   "source": [
    "#we can drop all the columns with 75% of missing values as these values will not contibute \n",
    "missing_var = missing_val[missing_val > 0.75].index\n",
    "missing_var"
   ]
  },
  {
   "cell_type": "code",
   "execution_count": 26,
   "id": "determined-ballot",
   "metadata": {},
   "outputs": [],
   "source": [
    "xyz.drop(missing_var, axis=1, inplace=True)"
   ]
  },
  {
   "cell_type": "code",
   "execution_count": 27,
   "id": "sound-stopping",
   "metadata": {},
   "outputs": [
    {
     "data": {
      "text/html": [
       "<div>\n",
       "<style scoped>\n",
       "    .dataframe tbody tr th:only-of-type {\n",
       "        vertical-align: middle;\n",
       "    }\n",
       "\n",
       "    .dataframe tbody tr th {\n",
       "        vertical-align: top;\n",
       "    }\n",
       "\n",
       "    .dataframe thead th {\n",
       "        text-align: right;\n",
       "    }\n",
       "</style>\n",
       "<table border=\"1\" class=\"dataframe\">\n",
       "  <thead>\n",
       "    <tr style=\"text-align: right;\">\n",
       "      <th></th>\n",
       "      <th>id</th>\n",
       "      <th>member_id</th>\n",
       "      <th>loan_amnt</th>\n",
       "      <th>funded_amnt</th>\n",
       "      <th>funded_amnt_inv</th>\n",
       "      <th>term</th>\n",
       "      <th>int_rate</th>\n",
       "      <th>installment</th>\n",
       "      <th>grade</th>\n",
       "      <th>sub_grade</th>\n",
       "      <th>...</th>\n",
       "      <th>last_credit_pull_d</th>\n",
       "      <th>collections_12_mths_ex_med</th>\n",
       "      <th>policy_code</th>\n",
       "      <th>application_type</th>\n",
       "      <th>acc_now_delinq</th>\n",
       "      <th>tot_coll_amt</th>\n",
       "      <th>tot_cur_bal</th>\n",
       "      <th>total_rev_hi_lim</th>\n",
       "      <th>default_ind</th>\n",
       "      <th>issue_year</th>\n",
       "    </tr>\n",
       "  </thead>\n",
       "  <tbody>\n",
       "    <tr>\n",
       "      <th>0</th>\n",
       "      <td>1077501</td>\n",
       "      <td>1296599</td>\n",
       "      <td>5000.0</td>\n",
       "      <td>5000.0</td>\n",
       "      <td>4975.0</td>\n",
       "      <td>36 months</td>\n",
       "      <td>10.65</td>\n",
       "      <td>162.87</td>\n",
       "      <td>B</td>\n",
       "      <td>B2</td>\n",
       "      <td>...</td>\n",
       "      <td>Jan-2016</td>\n",
       "      <td>0.0</td>\n",
       "      <td>1.0</td>\n",
       "      <td>INDIVIDUAL</td>\n",
       "      <td>0.0</td>\n",
       "      <td>NaN</td>\n",
       "      <td>NaN</td>\n",
       "      <td>NaN</td>\n",
       "      <td>0</td>\n",
       "      <td>2011</td>\n",
       "    </tr>\n",
       "    <tr>\n",
       "      <th>1</th>\n",
       "      <td>1077430</td>\n",
       "      <td>1314167</td>\n",
       "      <td>2500.0</td>\n",
       "      <td>2500.0</td>\n",
       "      <td>2500.0</td>\n",
       "      <td>60 months</td>\n",
       "      <td>15.27</td>\n",
       "      <td>59.83</td>\n",
       "      <td>C</td>\n",
       "      <td>C4</td>\n",
       "      <td>...</td>\n",
       "      <td>Sep-2013</td>\n",
       "      <td>0.0</td>\n",
       "      <td>1.0</td>\n",
       "      <td>INDIVIDUAL</td>\n",
       "      <td>0.0</td>\n",
       "      <td>NaN</td>\n",
       "      <td>NaN</td>\n",
       "      <td>NaN</td>\n",
       "      <td>1</td>\n",
       "      <td>2011</td>\n",
       "    </tr>\n",
       "    <tr>\n",
       "      <th>2</th>\n",
       "      <td>1077175</td>\n",
       "      <td>1313524</td>\n",
       "      <td>2400.0</td>\n",
       "      <td>2400.0</td>\n",
       "      <td>2400.0</td>\n",
       "      <td>36 months</td>\n",
       "      <td>15.96</td>\n",
       "      <td>84.33</td>\n",
       "      <td>C</td>\n",
       "      <td>C5</td>\n",
       "      <td>...</td>\n",
       "      <td>Jan-2016</td>\n",
       "      <td>0.0</td>\n",
       "      <td>1.0</td>\n",
       "      <td>INDIVIDUAL</td>\n",
       "      <td>0.0</td>\n",
       "      <td>NaN</td>\n",
       "      <td>NaN</td>\n",
       "      <td>NaN</td>\n",
       "      <td>0</td>\n",
       "      <td>2011</td>\n",
       "    </tr>\n",
       "    <tr>\n",
       "      <th>3</th>\n",
       "      <td>1076863</td>\n",
       "      <td>1277178</td>\n",
       "      <td>10000.0</td>\n",
       "      <td>10000.0</td>\n",
       "      <td>10000.0</td>\n",
       "      <td>36 months</td>\n",
       "      <td>13.49</td>\n",
       "      <td>339.31</td>\n",
       "      <td>C</td>\n",
       "      <td>C1</td>\n",
       "      <td>...</td>\n",
       "      <td>Jan-2015</td>\n",
       "      <td>0.0</td>\n",
       "      <td>1.0</td>\n",
       "      <td>INDIVIDUAL</td>\n",
       "      <td>0.0</td>\n",
       "      <td>NaN</td>\n",
       "      <td>NaN</td>\n",
       "      <td>NaN</td>\n",
       "      <td>0</td>\n",
       "      <td>2011</td>\n",
       "    </tr>\n",
       "    <tr>\n",
       "      <th>4</th>\n",
       "      <td>1075358</td>\n",
       "      <td>1311748</td>\n",
       "      <td>3000.0</td>\n",
       "      <td>3000.0</td>\n",
       "      <td>3000.0</td>\n",
       "      <td>60 months</td>\n",
       "      <td>12.69</td>\n",
       "      <td>67.79</td>\n",
       "      <td>B</td>\n",
       "      <td>B5</td>\n",
       "      <td>...</td>\n",
       "      <td>Jan-2016</td>\n",
       "      <td>0.0</td>\n",
       "      <td>1.0</td>\n",
       "      <td>INDIVIDUAL</td>\n",
       "      <td>0.0</td>\n",
       "      <td>NaN</td>\n",
       "      <td>NaN</td>\n",
       "      <td>NaN</td>\n",
       "      <td>0</td>\n",
       "      <td>2011</td>\n",
       "    </tr>\n",
       "  </tbody>\n",
       "</table>\n",
       "<p>5 rows × 54 columns</p>\n",
       "</div>"
      ],
      "text/plain": [
       "        id  member_id  loan_amnt  funded_amnt  funded_amnt_inv        term  \\\n",
       "0  1077501    1296599     5000.0       5000.0           4975.0   36 months   \n",
       "1  1077430    1314167     2500.0       2500.0           2500.0   60 months   \n",
       "2  1077175    1313524     2400.0       2400.0           2400.0   36 months   \n",
       "3  1076863    1277178    10000.0      10000.0          10000.0   36 months   \n",
       "4  1075358    1311748     3000.0       3000.0           3000.0   60 months   \n",
       "\n",
       "   int_rate  installment grade sub_grade  ... last_credit_pull_d  \\\n",
       "0     10.65       162.87     B        B2  ...           Jan-2016   \n",
       "1     15.27        59.83     C        C4  ...           Sep-2013   \n",
       "2     15.96        84.33     C        C5  ...           Jan-2016   \n",
       "3     13.49       339.31     C        C1  ...           Jan-2015   \n",
       "4     12.69        67.79     B        B5  ...           Jan-2016   \n",
       "\n",
       "  collections_12_mths_ex_med policy_code  application_type acc_now_delinq  \\\n",
       "0                        0.0         1.0        INDIVIDUAL            0.0   \n",
       "1                        0.0         1.0        INDIVIDUAL            0.0   \n",
       "2                        0.0         1.0        INDIVIDUAL            0.0   \n",
       "3                        0.0         1.0        INDIVIDUAL            0.0   \n",
       "4                        0.0         1.0        INDIVIDUAL            0.0   \n",
       "\n",
       "  tot_coll_amt tot_cur_bal total_rev_hi_lim default_ind issue_year  \n",
       "0          NaN         NaN              NaN           0       2011  \n",
       "1          NaN         NaN              NaN           1       2011  \n",
       "2          NaN         NaN              NaN           0       2011  \n",
       "3          NaN         NaN              NaN           0       2011  \n",
       "4          NaN         NaN              NaN           0       2011  \n",
       "\n",
       "[5 rows x 54 columns]"
      ]
     },
     "execution_count": 27,
     "metadata": {},
     "output_type": "execute_result"
    }
   ],
   "source": [
    "xyz.head()"
   ]
  },
  {
   "cell_type": "code",
   "execution_count": 28,
   "id": "fuzzy-spelling",
   "metadata": {},
   "outputs": [],
   "source": [
    "#drop the columns that are not important in the analysis\n",
    "\n",
    "xyz.drop(['id','member_id','sub_grade','emp_title','title','last_pymnt_d','next_pymnt_d',\n",
    "        'last_credit_pull_d','addr_state','earliest_cr_line','zip_code',\n",
    "        'mths_since_last_delinq','policy_code','acc_now_delinq','issue_year'], axis=1, inplace=True)"
   ]
  },
  {
   "cell_type": "code",
   "execution_count": 29,
   "id": "spanish-remainder",
   "metadata": {},
   "outputs": [
    {
     "data": {
      "text/plain": [
       "(855969, 39)"
      ]
     },
     "execution_count": 29,
     "metadata": {},
     "output_type": "execute_result"
    }
   ],
   "source": [
    "xyz.shape"
   ]
  },
  {
   "cell_type": "code",
   "execution_count": 30,
   "id": "moral-potato",
   "metadata": {},
   "outputs": [
    {
     "data": {
      "text/plain": [
       "loan_amnt                         0\n",
       "funded_amnt                       0\n",
       "funded_amnt_inv                   0\n",
       "term                              0\n",
       "int_rate                          0\n",
       "installment                       0\n",
       "grade                             0\n",
       "emp_length                    43061\n",
       "home_ownership                    0\n",
       "annual_inc                        0\n",
       "verification_status               0\n",
       "issue_d                           0\n",
       "pymnt_plan                        0\n",
       "purpose                           0\n",
       "dti                               0\n",
       "delinq_2yrs                       0\n",
       "inq_last_6mths                    0\n",
       "open_acc                          0\n",
       "pub_rec                           0\n",
       "revol_bal                         0\n",
       "revol_util                      446\n",
       "total_acc                         0\n",
       "initial_list_status               0\n",
       "out_prncp                         0\n",
       "out_prncp_inv                     0\n",
       "total_pymnt                       0\n",
       "total_pymnt_inv                   0\n",
       "total_rec_prncp                   0\n",
       "total_rec_int                     0\n",
       "total_rec_late_fee                0\n",
       "recoveries                        0\n",
       "collection_recovery_fee           0\n",
       "last_pymnt_amnt                   0\n",
       "collections_12_mths_ex_med       56\n",
       "application_type                  0\n",
       "tot_coll_amt                  67313\n",
       "tot_cur_bal                   67313\n",
       "total_rev_hi_lim              67313\n",
       "default_ind                       0\n",
       "dtype: int64"
      ]
     },
     "execution_count": 30,
     "metadata": {},
     "output_type": "execute_result"
    }
   ],
   "source": [
    "#again checking for null values\n",
    "xyz.isnull().sum()"
   ]
  },
  {
   "cell_type": "code",
   "execution_count": 31,
   "id": "immediate-serum",
   "metadata": {},
   "outputs": [
    {
     "data": {
      "text/plain": [
       "0         10+ years\n",
       "1          < 1 year\n",
       "2         10+ years\n",
       "3         10+ years\n",
       "4            1 year\n",
       "            ...    \n",
       "855964      8 years\n",
       "855965    10+ years\n",
       "855966      5 years\n",
       "855967       1 year\n",
       "855968    10+ years\n",
       "Name: emp_length, Length: 855969, dtype: object"
      ]
     },
     "execution_count": 31,
     "metadata": {},
     "output_type": "execute_result"
    }
   ],
   "source": [
    "#the columns that have missing values are lesser and not too much so we can take the mean for the features\n",
    "#not all entries in the columns or numerical and have some charaters that needs to be removed\n",
    "xyz['emp_length']"
   ]
  },
  {
   "cell_type": "code",
   "execution_count": 32,
   "id": "solved-chapter",
   "metadata": {},
   "outputs": [],
   "source": [
    "#remove the characters from every entry such as +, < and year or years\n",
    "#replace the characters\n",
    "xyz[\"emp_length\"] = xyz['emp_length'].replace({'years':'','year':'',',':'',\n",
    "                                              '<':'','\\+':'','n/a':'0','s':''},regex = True)\n",
    "\n",
    "#regex is used to identify any dash (-) after a number"
   ]
  },
  {
   "cell_type": "code",
   "execution_count": 33,
   "id": "consecutive-average",
   "metadata": {},
   "outputs": [
    {
     "data": {
      "text/plain": [
       "0    10 \n",
       "1     1 \n",
       "2    10 \n",
       "3    10 \n",
       "4     1 \n",
       "Name: emp_length, dtype: object"
      ]
     },
     "execution_count": 33,
     "metadata": {},
     "output_type": "execute_result"
    }
   ],
   "source": [
    "xyz['emp_length'].head()"
   ]
  },
  {
   "cell_type": "code",
   "execution_count": 34,
   "id": "major-telescope",
   "metadata": {},
   "outputs": [],
   "source": [
    "#convert the datatype to numeric, coerce is used to used to replace any invalid parsing to an NaN value\n",
    "xyz['emp_length'] = pd.to_numeric(xyz['emp_length'], errors = 'coerce')"
   ]
  },
  {
   "cell_type": "code",
   "execution_count": 35,
   "id": "sporting-russell",
   "metadata": {},
   "outputs": [],
   "source": [
    "#Replace the missing nan values and its entries with the mean\n",
    "xyz['emp_length'].fillna(xyz['emp_length'].mean(), inplace=True)\n",
    "xyz['revol_util'].fillna(xyz['revol_util'].mean(), inplace=True)\n",
    "xyz['collections_12_mths_ex_med'].fillna(xyz['collections_12_mths_ex_med'].mean(), inplace=True)\n",
    "xyz['tot_coll_amt'].fillna(xyz['tot_coll_amt'].mean(), inplace=True)\n",
    "xyz['tot_cur_bal'].fillna(xyz['tot_cur_bal'].mean(), inplace=True)\n",
    "xyz['total_rev_hi_lim'].fillna(xyz['total_rev_hi_lim'].mean(), inplace=True)"
   ]
  },
  {
   "cell_type": "code",
   "execution_count": 36,
   "id": "entitled-seeking",
   "metadata": {},
   "outputs": [
    {
     "name": "stdout",
     "output_type": "stream",
     "text": [
      "<class 'pandas.core.frame.DataFrame'>\n",
      "RangeIndex: 855969 entries, 0 to 855968\n",
      "Data columns (total 39 columns):\n",
      " #   Column                      Non-Null Count   Dtype  \n",
      "---  ------                      --------------   -----  \n",
      " 0   loan_amnt                   855969 non-null  float64\n",
      " 1   funded_amnt                 855969 non-null  float64\n",
      " 2   funded_amnt_inv             855969 non-null  float64\n",
      " 3   term                        855969 non-null  object \n",
      " 4   int_rate                    855969 non-null  float64\n",
      " 5   installment                 855969 non-null  float64\n",
      " 6   grade                       855969 non-null  object \n",
      " 7   emp_length                  855969 non-null  float64\n",
      " 8   home_ownership              855969 non-null  object \n",
      " 9   annual_inc                  855969 non-null  float64\n",
      " 10  verification_status         855969 non-null  object \n",
      " 11  issue_d                     855969 non-null  object \n",
      " 12  pymnt_plan                  855969 non-null  object \n",
      " 13  purpose                     855969 non-null  object \n",
      " 14  dti                         855969 non-null  float64\n",
      " 15  delinq_2yrs                 855969 non-null  float64\n",
      " 16  inq_last_6mths              855969 non-null  float64\n",
      " 17  open_acc                    855969 non-null  float64\n",
      " 18  pub_rec                     855969 non-null  float64\n",
      " 19  revol_bal                   855969 non-null  float64\n",
      " 20  revol_util                  855969 non-null  float64\n",
      " 21  total_acc                   855969 non-null  float64\n",
      " 22  initial_list_status         855969 non-null  object \n",
      " 23  out_prncp                   855969 non-null  float64\n",
      " 24  out_prncp_inv               855969 non-null  float64\n",
      " 25  total_pymnt                 855969 non-null  float64\n",
      " 26  total_pymnt_inv             855969 non-null  float64\n",
      " 27  total_rec_prncp             855969 non-null  float64\n",
      " 28  total_rec_int               855969 non-null  float64\n",
      " 29  total_rec_late_fee          855969 non-null  float64\n",
      " 30  recoveries                  855969 non-null  float64\n",
      " 31  collection_recovery_fee     855969 non-null  float64\n",
      " 32  last_pymnt_amnt             855969 non-null  float64\n",
      " 33  collections_12_mths_ex_med  855969 non-null  float64\n",
      " 34  application_type            855969 non-null  object \n",
      " 35  tot_coll_amt                855969 non-null  float64\n",
      " 36  tot_cur_bal                 855969 non-null  float64\n",
      " 37  total_rev_hi_lim            855969 non-null  float64\n",
      " 38  default_ind                 855969 non-null  int64  \n",
      "dtypes: float64(29), int64(1), object(9)\n",
      "memory usage: 254.7+ MB\n"
     ]
    }
   ],
   "source": [
    "xyz.info()"
   ]
  },
  {
   "cell_type": "markdown",
   "id": "perceived-horizon",
   "metadata": {},
   "source": [
    "# Label Encoding"
   ]
  },
  {
   "cell_type": "code",
   "execution_count": 37,
   "id": "curious-oxide",
   "metadata": {},
   "outputs": [],
   "source": [
    "#Now that some cleaning has been done, start labelling the object datatype columns\n",
    "#the method is called label encoding\n",
    "#import the label encoder\n",
    "\n",
    "from sklearn import preprocessing\n",
    "label_encoder = preprocessing.LabelEncoder()"
   ]
  },
  {
   "cell_type": "code",
   "execution_count": 38,
   "id": "widespread-navigator",
   "metadata": {},
   "outputs": [],
   "source": [
    "#the columns such as grade, pymnt plan and application type are in the form of labels \n",
    "#convert the categorical values to numeric type - label encoding\n",
    "\n",
    "xyz['grade'] = label_encoder.fit_transform(xyz['grade'])"
   ]
  },
  {
   "cell_type": "code",
   "execution_count": 39,
   "id": "behavioral-likelihood",
   "metadata": {},
   "outputs": [
    {
     "data": {
      "text/plain": [
       "array([1, 2, 0, 4, 5, 3, 6])"
      ]
     },
     "execution_count": 39,
     "metadata": {},
     "output_type": "execute_result"
    }
   ],
   "source": [
    "#to find the labels in the varaible\n",
    "xyz['grade'].unique()\n",
    "\n",
    "#thus there are 7 labels of grades in the varaible "
   ]
  },
  {
   "cell_type": "code",
   "execution_count": 40,
   "id": "administrative-fluid",
   "metadata": {},
   "outputs": [
    {
     "data": {
      "text/plain": [
       "array([0, 1])"
      ]
     },
     "execution_count": 40,
     "metadata": {},
     "output_type": "execute_result"
    }
   ],
   "source": [
    "#payment plan variable has two possible outcomes y or n\n",
    "xyz['pymnt_plan'] = label_encoder.fit_transform(xyz['pymnt_plan'])\n",
    "xyz['pymnt_plan'].unique()"
   ]
  },
  {
   "cell_type": "code",
   "execution_count": 41,
   "id": "tight-archives",
   "metadata": {},
   "outputs": [],
   "source": [
    "#application type has two possible entries if its an individual or joint appliocation\n",
    "xyz['application_type'] = label_encoder.fit_transform(xyz['application_type'])"
   ]
  },
  {
   "cell_type": "code",
   "execution_count": 42,
   "id": "interior-rugby",
   "metadata": {},
   "outputs": [],
   "source": [
    "#the initial list status possible entries are W or F\n",
    "xyz['initial_list_status'] = label_encoder.fit_transform(xyz['initial_list_status'])"
   ]
  },
  {
   "cell_type": "code",
   "execution_count": 43,
   "id": "naked-baltimore",
   "metadata": {},
   "outputs": [
    {
     "name": "stdout",
     "output_type": "stream",
     "text": [
      "<class 'pandas.core.frame.DataFrame'>\n",
      "RangeIndex: 855969 entries, 0 to 855968\n",
      "Data columns (total 39 columns):\n",
      " #   Column                      Non-Null Count   Dtype  \n",
      "---  ------                      --------------   -----  \n",
      " 0   loan_amnt                   855969 non-null  float64\n",
      " 1   funded_amnt                 855969 non-null  float64\n",
      " 2   funded_amnt_inv             855969 non-null  float64\n",
      " 3   term                        855969 non-null  object \n",
      " 4   int_rate                    855969 non-null  float64\n",
      " 5   installment                 855969 non-null  float64\n",
      " 6   grade                       855969 non-null  int32  \n",
      " 7   emp_length                  855969 non-null  float64\n",
      " 8   home_ownership              855969 non-null  object \n",
      " 9   annual_inc                  855969 non-null  float64\n",
      " 10  verification_status         855969 non-null  object \n",
      " 11  issue_d                     855969 non-null  object \n",
      " 12  pymnt_plan                  855969 non-null  int32  \n",
      " 13  purpose                     855969 non-null  object \n",
      " 14  dti                         855969 non-null  float64\n",
      " 15  delinq_2yrs                 855969 non-null  float64\n",
      " 16  inq_last_6mths              855969 non-null  float64\n",
      " 17  open_acc                    855969 non-null  float64\n",
      " 18  pub_rec                     855969 non-null  float64\n",
      " 19  revol_bal                   855969 non-null  float64\n",
      " 20  revol_util                  855969 non-null  float64\n",
      " 21  total_acc                   855969 non-null  float64\n",
      " 22  initial_list_status         855969 non-null  int32  \n",
      " 23  out_prncp                   855969 non-null  float64\n",
      " 24  out_prncp_inv               855969 non-null  float64\n",
      " 25  total_pymnt                 855969 non-null  float64\n",
      " 26  total_pymnt_inv             855969 non-null  float64\n",
      " 27  total_rec_prncp             855969 non-null  float64\n",
      " 28  total_rec_int               855969 non-null  float64\n",
      " 29  total_rec_late_fee          855969 non-null  float64\n",
      " 30  recoveries                  855969 non-null  float64\n",
      " 31  collection_recovery_fee     855969 non-null  float64\n",
      " 32  last_pymnt_amnt             855969 non-null  float64\n",
      " 33  collections_12_mths_ex_med  855969 non-null  float64\n",
      " 34  application_type            855969 non-null  int32  \n",
      " 35  tot_coll_amt                855969 non-null  float64\n",
      " 36  tot_cur_bal                 855969 non-null  float64\n",
      " 37  total_rev_hi_lim            855969 non-null  float64\n",
      " 38  default_ind                 855969 non-null  int64  \n",
      "dtypes: float64(29), int32(4), int64(1), object(5)\n",
      "memory usage: 241.6+ MB\n"
     ]
    }
   ],
   "source": [
    "xyz.info()"
   ]
  },
  {
   "cell_type": "code",
   "execution_count": 44,
   "id": "revised-republican",
   "metadata": {},
   "outputs": [
    {
     "data": {
      "text/plain": [
       "0     36 months\n",
       "1     60 months\n",
       "2     36 months\n",
       "3     36 months\n",
       "4     60 months\n",
       "Name: term, dtype: object"
      ]
     },
     "execution_count": 44,
     "metadata": {},
     "output_type": "execute_result"
    }
   ],
   "source": [
    "#next step is to convert more object datatypes to numerical form\n",
    "xyz['term'].head()"
   ]
  },
  {
   "cell_type": "code",
   "execution_count": 45,
   "id": "cleared-laser",
   "metadata": {},
   "outputs": [
    {
     "data": {
      "text/plain": [
       "0    36\n",
       "1    60\n",
       "2    36\n",
       "3    36\n",
       "4    60\n",
       "Name: term, dtype: object"
      ]
     },
     "execution_count": 45,
     "metadata": {},
     "output_type": "execute_result"
    }
   ],
   "source": [
    "#remove the charaters such as months and convert the datatype to numeric \n",
    "xyz['term'] = xyz['term'].replace({'months':'', ' ':''}, regex = True)\n",
    "xyz['term'].head()"
   ]
  },
  {
   "cell_type": "code",
   "execution_count": 46,
   "id": "extra-premiere",
   "metadata": {},
   "outputs": [
    {
     "data": {
      "text/plain": [
       "0         0\n",
       "1         1\n",
       "2         0\n",
       "3         0\n",
       "4         1\n",
       "         ..\n",
       "855964    0\n",
       "855965    0\n",
       "855966    1\n",
       "855967    1\n",
       "855968    0\n",
       "Name: term, Length: 855969, dtype: int32"
      ]
     },
     "execution_count": 46,
     "metadata": {},
     "output_type": "execute_result"
    }
   ],
   "source": [
    "xyz['term'] = label_encoder.fit_transform(xyz['term'])\n",
    "xyz['term']"
   ]
  },
  {
   "cell_type": "code",
   "execution_count": 47,
   "id": "mature-spine",
   "metadata": {},
   "outputs": [
    {
     "data": {
      "text/plain": [
       "array(['RENT', 'OWN', 'MORTGAGE', 'OTHER', 'NONE', 'ANY'], dtype=object)"
      ]
     },
     "execution_count": 47,
     "metadata": {},
     "output_type": "execute_result"
    }
   ],
   "source": [
    "xyz['home_ownership'].unique()"
   ]
  },
  {
   "cell_type": "code",
   "execution_count": 48,
   "id": "clinical-kentucky",
   "metadata": {},
   "outputs": [
    {
     "data": {
      "text/plain": [
       "0         5\n",
       "1         5\n",
       "2         5\n",
       "3         5\n",
       "4         5\n",
       "         ..\n",
       "855964    5\n",
       "855965    1\n",
       "855966    5\n",
       "855967    5\n",
       "855968    5\n",
       "Name: home_ownership, Length: 855969, dtype: int32"
      ]
     },
     "execution_count": 48,
     "metadata": {},
     "output_type": "execute_result"
    }
   ],
   "source": [
    "xyz['home_ownership'] = label_encoder.fit_transform(xyz['home_ownership'])\n",
    "xyz['home_ownership']"
   ]
  },
  {
   "cell_type": "code",
   "execution_count": 49,
   "id": "infectious-growth",
   "metadata": {},
   "outputs": [
    {
     "data": {
      "text/plain": [
       "array(['Verified', 'Source Verified', 'Not Verified'], dtype=object)"
      ]
     },
     "execution_count": 49,
     "metadata": {},
     "output_type": "execute_result"
    }
   ],
   "source": [
    "xyz['verification_status'].unique()"
   ]
  },
  {
   "cell_type": "code",
   "execution_count": 50,
   "id": "standing-snake",
   "metadata": {},
   "outputs": [
    {
     "data": {
      "text/plain": [
       "array([2, 1, 0])"
      ]
     },
     "execution_count": 50,
     "metadata": {},
     "output_type": "execute_result"
    }
   ],
   "source": [
    "xyz['verification_status'] = label_encoder.fit_transform(xyz['verification_status'])\n",
    "xyz['verification_status'].unique()"
   ]
  },
  {
   "cell_type": "code",
   "execution_count": 51,
   "id": "cognitive-philip",
   "metadata": {},
   "outputs": [
    {
     "data": {
      "text/plain": [
       "array(['credit_card', 'car', 'small_business', 'other', 'wedding',\n",
       "       'debt_consolidation', 'home_improvement', 'major_purchase',\n",
       "       'medical', 'moving', 'vacation', 'house', 'renewable_energy',\n",
       "       'educational'], dtype=object)"
      ]
     },
     "execution_count": 51,
     "metadata": {},
     "output_type": "execute_result"
    }
   ],
   "source": [
    "xyz['purpose'].unique()"
   ]
  },
  {
   "cell_type": "code",
   "execution_count": 52,
   "id": "amazing-detail",
   "metadata": {},
   "outputs": [
    {
     "data": {
      "text/plain": [
       "0     1\n",
       "1     0\n",
       "2    11\n",
       "3     9\n",
       "4     9\n",
       "Name: purpose, dtype: int32"
      ]
     },
     "execution_count": 52,
     "metadata": {},
     "output_type": "execute_result"
    }
   ],
   "source": [
    "xyz['purpose'] = label_encoder.fit_transform(xyz['purpose'])\n",
    "xyz['purpose'].head()"
   ]
  },
  {
   "cell_type": "code",
   "execution_count": 53,
   "id": "looking-pavilion",
   "metadata": {},
   "outputs": [
    {
     "data": {
      "text/html": [
       "<div>\n",
       "<style scoped>\n",
       "    .dataframe tbody tr th:only-of-type {\n",
       "        vertical-align: middle;\n",
       "    }\n",
       "\n",
       "    .dataframe tbody tr th {\n",
       "        vertical-align: top;\n",
       "    }\n",
       "\n",
       "    .dataframe thead th {\n",
       "        text-align: right;\n",
       "    }\n",
       "</style>\n",
       "<table border=\"1\" class=\"dataframe\">\n",
       "  <thead>\n",
       "    <tr style=\"text-align: right;\">\n",
       "      <th></th>\n",
       "      <th>loan_amnt</th>\n",
       "      <th>funded_amnt</th>\n",
       "      <th>funded_amnt_inv</th>\n",
       "      <th>term</th>\n",
       "      <th>int_rate</th>\n",
       "      <th>installment</th>\n",
       "      <th>grade</th>\n",
       "      <th>emp_length</th>\n",
       "      <th>home_ownership</th>\n",
       "      <th>annual_inc</th>\n",
       "      <th>...</th>\n",
       "      <th>total_rec_late_fee</th>\n",
       "      <th>recoveries</th>\n",
       "      <th>collection_recovery_fee</th>\n",
       "      <th>last_pymnt_amnt</th>\n",
       "      <th>collections_12_mths_ex_med</th>\n",
       "      <th>application_type</th>\n",
       "      <th>tot_coll_amt</th>\n",
       "      <th>tot_cur_bal</th>\n",
       "      <th>total_rev_hi_lim</th>\n",
       "      <th>default_ind</th>\n",
       "    </tr>\n",
       "  </thead>\n",
       "  <tbody>\n",
       "    <tr>\n",
       "      <th>0</th>\n",
       "      <td>5000.0</td>\n",
       "      <td>5000.0</td>\n",
       "      <td>4975.0</td>\n",
       "      <td>0</td>\n",
       "      <td>10.65</td>\n",
       "      <td>162.87</td>\n",
       "      <td>1</td>\n",
       "      <td>10.0</td>\n",
       "      <td>5</td>\n",
       "      <td>24000.0</td>\n",
       "      <td>...</td>\n",
       "      <td>0.00</td>\n",
       "      <td>0.00</td>\n",
       "      <td>0.00</td>\n",
       "      <td>171.62</td>\n",
       "      <td>0.0</td>\n",
       "      <td>0</td>\n",
       "      <td>225.412882</td>\n",
       "      <td>139766.247529</td>\n",
       "      <td>32163.574526</td>\n",
       "      <td>0</td>\n",
       "    </tr>\n",
       "    <tr>\n",
       "      <th>1</th>\n",
       "      <td>2500.0</td>\n",
       "      <td>2500.0</td>\n",
       "      <td>2500.0</td>\n",
       "      <td>1</td>\n",
       "      <td>15.27</td>\n",
       "      <td>59.83</td>\n",
       "      <td>2</td>\n",
       "      <td>1.0</td>\n",
       "      <td>5</td>\n",
       "      <td>30000.0</td>\n",
       "      <td>...</td>\n",
       "      <td>0.00</td>\n",
       "      <td>117.08</td>\n",
       "      <td>1.11</td>\n",
       "      <td>119.66</td>\n",
       "      <td>0.0</td>\n",
       "      <td>0</td>\n",
       "      <td>225.412882</td>\n",
       "      <td>139766.247529</td>\n",
       "      <td>32163.574526</td>\n",
       "      <td>1</td>\n",
       "    </tr>\n",
       "    <tr>\n",
       "      <th>2</th>\n",
       "      <td>2400.0</td>\n",
       "      <td>2400.0</td>\n",
       "      <td>2400.0</td>\n",
       "      <td>0</td>\n",
       "      <td>15.96</td>\n",
       "      <td>84.33</td>\n",
       "      <td>2</td>\n",
       "      <td>10.0</td>\n",
       "      <td>5</td>\n",
       "      <td>12252.0</td>\n",
       "      <td>...</td>\n",
       "      <td>0.00</td>\n",
       "      <td>0.00</td>\n",
       "      <td>0.00</td>\n",
       "      <td>649.91</td>\n",
       "      <td>0.0</td>\n",
       "      <td>0</td>\n",
       "      <td>225.412882</td>\n",
       "      <td>139766.247529</td>\n",
       "      <td>32163.574526</td>\n",
       "      <td>0</td>\n",
       "    </tr>\n",
       "    <tr>\n",
       "      <th>3</th>\n",
       "      <td>10000.0</td>\n",
       "      <td>10000.0</td>\n",
       "      <td>10000.0</td>\n",
       "      <td>0</td>\n",
       "      <td>13.49</td>\n",
       "      <td>339.31</td>\n",
       "      <td>2</td>\n",
       "      <td>10.0</td>\n",
       "      <td>5</td>\n",
       "      <td>49200.0</td>\n",
       "      <td>...</td>\n",
       "      <td>16.97</td>\n",
       "      <td>0.00</td>\n",
       "      <td>0.00</td>\n",
       "      <td>357.48</td>\n",
       "      <td>0.0</td>\n",
       "      <td>0</td>\n",
       "      <td>225.412882</td>\n",
       "      <td>139766.247529</td>\n",
       "      <td>32163.574526</td>\n",
       "      <td>0</td>\n",
       "    </tr>\n",
       "    <tr>\n",
       "      <th>4</th>\n",
       "      <td>3000.0</td>\n",
       "      <td>3000.0</td>\n",
       "      <td>3000.0</td>\n",
       "      <td>1</td>\n",
       "      <td>12.69</td>\n",
       "      <td>67.79</td>\n",
       "      <td>1</td>\n",
       "      <td>1.0</td>\n",
       "      <td>5</td>\n",
       "      <td>80000.0</td>\n",
       "      <td>...</td>\n",
       "      <td>0.00</td>\n",
       "      <td>0.00</td>\n",
       "      <td>0.00</td>\n",
       "      <td>67.79</td>\n",
       "      <td>0.0</td>\n",
       "      <td>0</td>\n",
       "      <td>225.412882</td>\n",
       "      <td>139766.247529</td>\n",
       "      <td>32163.574526</td>\n",
       "      <td>0</td>\n",
       "    </tr>\n",
       "  </tbody>\n",
       "</table>\n",
       "<p>5 rows × 39 columns</p>\n",
       "</div>"
      ],
      "text/plain": [
       "   loan_amnt  funded_amnt  funded_amnt_inv  term  int_rate  installment  \\\n",
       "0     5000.0       5000.0           4975.0     0     10.65       162.87   \n",
       "1     2500.0       2500.0           2500.0     1     15.27        59.83   \n",
       "2     2400.0       2400.0           2400.0     0     15.96        84.33   \n",
       "3    10000.0      10000.0          10000.0     0     13.49       339.31   \n",
       "4     3000.0       3000.0           3000.0     1     12.69        67.79   \n",
       "\n",
       "   grade  emp_length  home_ownership  annual_inc  ...  total_rec_late_fee  \\\n",
       "0      1        10.0               5     24000.0  ...                0.00   \n",
       "1      2         1.0               5     30000.0  ...                0.00   \n",
       "2      2        10.0               5     12252.0  ...                0.00   \n",
       "3      2        10.0               5     49200.0  ...               16.97   \n",
       "4      1         1.0               5     80000.0  ...                0.00   \n",
       "\n",
       "  recoveries  collection_recovery_fee  last_pymnt_amnt  \\\n",
       "0       0.00                     0.00           171.62   \n",
       "1     117.08                     1.11           119.66   \n",
       "2       0.00                     0.00           649.91   \n",
       "3       0.00                     0.00           357.48   \n",
       "4       0.00                     0.00            67.79   \n",
       "\n",
       "   collections_12_mths_ex_med  application_type  tot_coll_amt    tot_cur_bal  \\\n",
       "0                         0.0                 0    225.412882  139766.247529   \n",
       "1                         0.0                 0    225.412882  139766.247529   \n",
       "2                         0.0                 0    225.412882  139766.247529   \n",
       "3                         0.0                 0    225.412882  139766.247529   \n",
       "4                         0.0                 0    225.412882  139766.247529   \n",
       "\n",
       "   total_rev_hi_lim  default_ind  \n",
       "0      32163.574526            0  \n",
       "1      32163.574526            1  \n",
       "2      32163.574526            0  \n",
       "3      32163.574526            0  \n",
       "4      32163.574526            0  \n",
       "\n",
       "[5 rows x 39 columns]"
      ]
     },
     "execution_count": 53,
     "metadata": {},
     "output_type": "execute_result"
    }
   ],
   "source": [
    "xyz.head()"
   ]
  },
  {
   "cell_type": "code",
   "execution_count": 54,
   "id": "baking-quebec",
   "metadata": {},
   "outputs": [
    {
     "name": "stdout",
     "output_type": "stream",
     "text": [
      "<class 'pandas.core.frame.DataFrame'>\n",
      "RangeIndex: 855969 entries, 0 to 855968\n",
      "Data columns (total 39 columns):\n",
      " #   Column                      Non-Null Count   Dtype  \n",
      "---  ------                      --------------   -----  \n",
      " 0   loan_amnt                   855969 non-null  float64\n",
      " 1   funded_amnt                 855969 non-null  float64\n",
      " 2   funded_amnt_inv             855969 non-null  float64\n",
      " 3   term                        855969 non-null  int32  \n",
      " 4   int_rate                    855969 non-null  float64\n",
      " 5   installment                 855969 non-null  float64\n",
      " 6   grade                       855969 non-null  int32  \n",
      " 7   emp_length                  855969 non-null  float64\n",
      " 8   home_ownership              855969 non-null  int32  \n",
      " 9   annual_inc                  855969 non-null  float64\n",
      " 10  verification_status         855969 non-null  int32  \n",
      " 11  issue_d                     855969 non-null  object \n",
      " 12  pymnt_plan                  855969 non-null  int32  \n",
      " 13  purpose                     855969 non-null  int32  \n",
      " 14  dti                         855969 non-null  float64\n",
      " 15  delinq_2yrs                 855969 non-null  float64\n",
      " 16  inq_last_6mths              855969 non-null  float64\n",
      " 17  open_acc                    855969 non-null  float64\n",
      " 18  pub_rec                     855969 non-null  float64\n",
      " 19  revol_bal                   855969 non-null  float64\n",
      " 20  revol_util                  855969 non-null  float64\n",
      " 21  total_acc                   855969 non-null  float64\n",
      " 22  initial_list_status         855969 non-null  int32  \n",
      " 23  out_prncp                   855969 non-null  float64\n",
      " 24  out_prncp_inv               855969 non-null  float64\n",
      " 25  total_pymnt                 855969 non-null  float64\n",
      " 26  total_pymnt_inv             855969 non-null  float64\n",
      " 27  total_rec_prncp             855969 non-null  float64\n",
      " 28  total_rec_int               855969 non-null  float64\n",
      " 29  total_rec_late_fee          855969 non-null  float64\n",
      " 30  recoveries                  855969 non-null  float64\n",
      " 31  collection_recovery_fee     855969 non-null  float64\n",
      " 32  last_pymnt_amnt             855969 non-null  float64\n",
      " 33  collections_12_mths_ex_med  855969 non-null  float64\n",
      " 34  application_type            855969 non-null  int32  \n",
      " 35  tot_coll_amt                855969 non-null  float64\n",
      " 36  tot_cur_bal                 855969 non-null  float64\n",
      " 37  total_rev_hi_lim            855969 non-null  float64\n",
      " 38  default_ind                 855969 non-null  int64  \n",
      "dtypes: float64(29), int32(8), int64(1), object(1)\n",
      "memory usage: 228.6+ MB\n"
     ]
    }
   ],
   "source": [
    "xyz.info()"
   ]
  },
  {
   "cell_type": "code",
   "execution_count": 55,
   "id": "sharp-relations",
   "metadata": {},
   "outputs": [
    {
     "data": {
      "text/plain": [
       "0    Dec-2011\n",
       "1    Dec-2011\n",
       "2    Dec-2011\n",
       "3    Dec-2011\n",
       "4    Dec-2011\n",
       "Name: issue_d, dtype: object"
      ]
     },
     "execution_count": 55,
     "metadata": {},
     "output_type": "execute_result"
    }
   ],
   "source": [
    "#the issue date still an object we will split the string\n",
    "\n",
    "xyz['issue_d'].head()"
   ]
  },
  {
   "cell_type": "code",
   "execution_count": 56,
   "id": "undefined-excuse",
   "metadata": {},
   "outputs": [
    {
     "data": {
      "text/plain": [
       "0         [Dec, 2011]\n",
       "1         [Dec, 2011]\n",
       "2         [Dec, 2011]\n",
       "3         [Dec, 2011]\n",
       "4         [Dec, 2011]\n",
       "             ...     \n",
       "855964    [Jan, 2015]\n",
       "855965    [Jan, 2015]\n",
       "855966    [Jan, 2015]\n",
       "855967    [Jan, 2015]\n",
       "855968    [Jan, 2015]\n",
       "Name: str_split, Length: 855969, dtype: object"
      ]
     },
     "execution_count": 56,
     "metadata": {},
     "output_type": "execute_result"
    }
   ],
   "source": [
    "#split the string \n",
    "xyz['str_split'] = xyz.issue_d.str.split('-')\n",
    "xyz['str_split']"
   ]
  },
  {
   "cell_type": "code",
   "execution_count": 57,
   "id": "sublime-communication",
   "metadata": {},
   "outputs": [
    {
     "data": {
      "text/plain": [
       "0         Dec\n",
       "1         Dec\n",
       "2         Dec\n",
       "3         Dec\n",
       "4         Dec\n",
       "         ... \n",
       "855964    Jan\n",
       "855965    Jan\n",
       "855966    Jan\n",
       "855967    Jan\n",
       "855968    Jan\n",
       "Name: issue, Length: 855969, dtype: object"
      ]
     },
     "execution_count": 57,
     "metadata": {},
     "output_type": "execute_result"
    }
   ],
   "source": [
    "#create an issue and date column\n",
    "xyz['issue'] = xyz.str_split.str.get(0)\n",
    "xyz['issue']"
   ]
  },
  {
   "cell_type": "code",
   "execution_count": 58,
   "id": "ranging-airplane",
   "metadata": {},
   "outputs": [
    {
     "data": {
      "text/plain": [
       "0         2011\n",
       "1         2011\n",
       "2         2011\n",
       "3         2011\n",
       "4         2011\n",
       "          ... \n",
       "855964    2015\n",
       "855965    2015\n",
       "855966    2015\n",
       "855967    2015\n",
       "855968    2015\n",
       "Name: date, Length: 855969, dtype: object"
      ]
     },
     "execution_count": 58,
     "metadata": {},
     "output_type": "execute_result"
    }
   ],
   "source": [
    "xyz['date'] = xyz.str_split.str.get(1)\n",
    "xyz['date']"
   ]
  },
  {
   "cell_type": "code",
   "execution_count": 59,
   "id": "strong-measurement",
   "metadata": {},
   "outputs": [],
   "source": [
    "#now that the year and month are split, replace the year with numeric values \n",
    "\n",
    "xyz['issue'] = xyz['issue'].replace({'Jan':'01', 'Feb':'02', 'Mar':'03', 'Apr':'04', \n",
    "                                    'May':'05', 'Jun':'06', 'Jul':'07', 'Aug':'08', \n",
    "                                    'Sep':'09', 'Oct':'10', 'Nov':'11', 'Dec':'12'})"
   ]
  },
  {
   "cell_type": "code",
   "execution_count": 60,
   "id": "homeless-lightweight",
   "metadata": {},
   "outputs": [
    {
     "data": {
      "text/plain": [
       "0    12\n",
       "1    12\n",
       "2    12\n",
       "3    12\n",
       "4    12\n",
       "Name: issue, dtype: object"
      ]
     },
     "execution_count": 60,
     "metadata": {},
     "output_type": "execute_result"
    }
   ],
   "source": [
    "xyz['issue'].head()"
   ]
  },
  {
   "cell_type": "code",
   "execution_count": 61,
   "id": "regulation-tradition",
   "metadata": {},
   "outputs": [
    {
     "data": {
      "text/plain": [
       "0         201112\n",
       "1         201112\n",
       "2         201112\n",
       "3         201112\n",
       "4         201112\n",
       "           ...  \n",
       "855964    201501\n",
       "855965    201501\n",
       "855966    201501\n",
       "855967    201501\n",
       "855968    201501\n",
       "Name: issue_date, Length: 855969, dtype: object"
      ]
     },
     "execution_count": 61,
     "metadata": {},
     "output_type": "execute_result"
    }
   ],
   "source": [
    "# create a column issue_date and merge issue and date\n",
    "xyz[\"issue_date\"] = xyz[\"date\"].map(str) + xyz[\"issue\"]\n",
    "xyz['issue_date']\n",
    "\n",
    "#for example the Dec 2011 will be 201112"
   ]
  },
  {
   "cell_type": "code",
   "execution_count": 62,
   "id": "written-conversion",
   "metadata": {},
   "outputs": [
    {
     "data": {
      "text/html": [
       "<div>\n",
       "<style scoped>\n",
       "    .dataframe tbody tr th:only-of-type {\n",
       "        vertical-align: middle;\n",
       "    }\n",
       "\n",
       "    .dataframe tbody tr th {\n",
       "        vertical-align: top;\n",
       "    }\n",
       "\n",
       "    .dataframe thead th {\n",
       "        text-align: right;\n",
       "    }\n",
       "</style>\n",
       "<table border=\"1\" class=\"dataframe\">\n",
       "  <thead>\n",
       "    <tr style=\"text-align: right;\">\n",
       "      <th></th>\n",
       "      <th>loan_amnt</th>\n",
       "      <th>funded_amnt</th>\n",
       "      <th>funded_amnt_inv</th>\n",
       "      <th>term</th>\n",
       "      <th>int_rate</th>\n",
       "      <th>installment</th>\n",
       "      <th>grade</th>\n",
       "      <th>emp_length</th>\n",
       "      <th>home_ownership</th>\n",
       "      <th>annual_inc</th>\n",
       "      <th>...</th>\n",
       "      <th>collections_12_mths_ex_med</th>\n",
       "      <th>application_type</th>\n",
       "      <th>tot_coll_amt</th>\n",
       "      <th>tot_cur_bal</th>\n",
       "      <th>total_rev_hi_lim</th>\n",
       "      <th>default_ind</th>\n",
       "      <th>str_split</th>\n",
       "      <th>issue</th>\n",
       "      <th>date</th>\n",
       "      <th>issue_date</th>\n",
       "    </tr>\n",
       "  </thead>\n",
       "  <tbody>\n",
       "    <tr>\n",
       "      <th>0</th>\n",
       "      <td>5000.0</td>\n",
       "      <td>5000.0</td>\n",
       "      <td>4975.0</td>\n",
       "      <td>0</td>\n",
       "      <td>10.65</td>\n",
       "      <td>162.87</td>\n",
       "      <td>1</td>\n",
       "      <td>10.0</td>\n",
       "      <td>5</td>\n",
       "      <td>24000.0</td>\n",
       "      <td>...</td>\n",
       "      <td>0.0</td>\n",
       "      <td>0</td>\n",
       "      <td>225.412882</td>\n",
       "      <td>139766.247529</td>\n",
       "      <td>32163.574526</td>\n",
       "      <td>0</td>\n",
       "      <td>[Dec, 2011]</td>\n",
       "      <td>12</td>\n",
       "      <td>2011</td>\n",
       "      <td>201112</td>\n",
       "    </tr>\n",
       "    <tr>\n",
       "      <th>1</th>\n",
       "      <td>2500.0</td>\n",
       "      <td>2500.0</td>\n",
       "      <td>2500.0</td>\n",
       "      <td>1</td>\n",
       "      <td>15.27</td>\n",
       "      <td>59.83</td>\n",
       "      <td>2</td>\n",
       "      <td>1.0</td>\n",
       "      <td>5</td>\n",
       "      <td>30000.0</td>\n",
       "      <td>...</td>\n",
       "      <td>0.0</td>\n",
       "      <td>0</td>\n",
       "      <td>225.412882</td>\n",
       "      <td>139766.247529</td>\n",
       "      <td>32163.574526</td>\n",
       "      <td>1</td>\n",
       "      <td>[Dec, 2011]</td>\n",
       "      <td>12</td>\n",
       "      <td>2011</td>\n",
       "      <td>201112</td>\n",
       "    </tr>\n",
       "    <tr>\n",
       "      <th>2</th>\n",
       "      <td>2400.0</td>\n",
       "      <td>2400.0</td>\n",
       "      <td>2400.0</td>\n",
       "      <td>0</td>\n",
       "      <td>15.96</td>\n",
       "      <td>84.33</td>\n",
       "      <td>2</td>\n",
       "      <td>10.0</td>\n",
       "      <td>5</td>\n",
       "      <td>12252.0</td>\n",
       "      <td>...</td>\n",
       "      <td>0.0</td>\n",
       "      <td>0</td>\n",
       "      <td>225.412882</td>\n",
       "      <td>139766.247529</td>\n",
       "      <td>32163.574526</td>\n",
       "      <td>0</td>\n",
       "      <td>[Dec, 2011]</td>\n",
       "      <td>12</td>\n",
       "      <td>2011</td>\n",
       "      <td>201112</td>\n",
       "    </tr>\n",
       "    <tr>\n",
       "      <th>3</th>\n",
       "      <td>10000.0</td>\n",
       "      <td>10000.0</td>\n",
       "      <td>10000.0</td>\n",
       "      <td>0</td>\n",
       "      <td>13.49</td>\n",
       "      <td>339.31</td>\n",
       "      <td>2</td>\n",
       "      <td>10.0</td>\n",
       "      <td>5</td>\n",
       "      <td>49200.0</td>\n",
       "      <td>...</td>\n",
       "      <td>0.0</td>\n",
       "      <td>0</td>\n",
       "      <td>225.412882</td>\n",
       "      <td>139766.247529</td>\n",
       "      <td>32163.574526</td>\n",
       "      <td>0</td>\n",
       "      <td>[Dec, 2011]</td>\n",
       "      <td>12</td>\n",
       "      <td>2011</td>\n",
       "      <td>201112</td>\n",
       "    </tr>\n",
       "    <tr>\n",
       "      <th>4</th>\n",
       "      <td>3000.0</td>\n",
       "      <td>3000.0</td>\n",
       "      <td>3000.0</td>\n",
       "      <td>1</td>\n",
       "      <td>12.69</td>\n",
       "      <td>67.79</td>\n",
       "      <td>1</td>\n",
       "      <td>1.0</td>\n",
       "      <td>5</td>\n",
       "      <td>80000.0</td>\n",
       "      <td>...</td>\n",
       "      <td>0.0</td>\n",
       "      <td>0</td>\n",
       "      <td>225.412882</td>\n",
       "      <td>139766.247529</td>\n",
       "      <td>32163.574526</td>\n",
       "      <td>0</td>\n",
       "      <td>[Dec, 2011]</td>\n",
       "      <td>12</td>\n",
       "      <td>2011</td>\n",
       "      <td>201112</td>\n",
       "    </tr>\n",
       "  </tbody>\n",
       "</table>\n",
       "<p>5 rows × 43 columns</p>\n",
       "</div>"
      ],
      "text/plain": [
       "   loan_amnt  funded_amnt  funded_amnt_inv  term  int_rate  installment  \\\n",
       "0     5000.0       5000.0           4975.0     0     10.65       162.87   \n",
       "1     2500.0       2500.0           2500.0     1     15.27        59.83   \n",
       "2     2400.0       2400.0           2400.0     0     15.96        84.33   \n",
       "3    10000.0      10000.0          10000.0     0     13.49       339.31   \n",
       "4     3000.0       3000.0           3000.0     1     12.69        67.79   \n",
       "\n",
       "   grade  emp_length  home_ownership  annual_inc  ...  \\\n",
       "0      1        10.0               5     24000.0  ...   \n",
       "1      2         1.0               5     30000.0  ...   \n",
       "2      2        10.0               5     12252.0  ...   \n",
       "3      2        10.0               5     49200.0  ...   \n",
       "4      1         1.0               5     80000.0  ...   \n",
       "\n",
       "   collections_12_mths_ex_med application_type  tot_coll_amt    tot_cur_bal  \\\n",
       "0                         0.0                0    225.412882  139766.247529   \n",
       "1                         0.0                0    225.412882  139766.247529   \n",
       "2                         0.0                0    225.412882  139766.247529   \n",
       "3                         0.0                0    225.412882  139766.247529   \n",
       "4                         0.0                0    225.412882  139766.247529   \n",
       "\n",
       "   total_rev_hi_lim  default_ind    str_split  issue  date  issue_date  \n",
       "0      32163.574526            0  [Dec, 2011]     12  2011      201112  \n",
       "1      32163.574526            1  [Dec, 2011]     12  2011      201112  \n",
       "2      32163.574526            0  [Dec, 2011]     12  2011      201112  \n",
       "3      32163.574526            0  [Dec, 2011]     12  2011      201112  \n",
       "4      32163.574526            0  [Dec, 2011]     12  2011      201112  \n",
       "\n",
       "[5 rows x 43 columns]"
      ]
     },
     "execution_count": 62,
     "metadata": {},
     "output_type": "execute_result"
    }
   ],
   "source": [
    "xyz.head()"
   ]
  },
  {
   "cell_type": "code",
   "execution_count": 63,
   "id": "worth-cattle",
   "metadata": {},
   "outputs": [],
   "source": [
    "#sort the values\n",
    "\n",
    "xyz = xyz.sort_values('issue_date')"
   ]
  },
  {
   "cell_type": "code",
   "execution_count": 64,
   "id": "fifteen-initial",
   "metadata": {},
   "outputs": [
    {
     "data": {
      "text/html": [
       "<div>\n",
       "<style scoped>\n",
       "    .dataframe tbody tr th:only-of-type {\n",
       "        vertical-align: middle;\n",
       "    }\n",
       "\n",
       "    .dataframe tbody tr th {\n",
       "        vertical-align: top;\n",
       "    }\n",
       "\n",
       "    .dataframe thead th {\n",
       "        text-align: right;\n",
       "    }\n",
       "</style>\n",
       "<table border=\"1\" class=\"dataframe\">\n",
       "  <thead>\n",
       "    <tr style=\"text-align: right;\">\n",
       "      <th></th>\n",
       "      <th>loan_amnt</th>\n",
       "      <th>funded_amnt</th>\n",
       "      <th>funded_amnt_inv</th>\n",
       "      <th>term</th>\n",
       "      <th>int_rate</th>\n",
       "      <th>installment</th>\n",
       "      <th>grade</th>\n",
       "      <th>emp_length</th>\n",
       "      <th>home_ownership</th>\n",
       "      <th>annual_inc</th>\n",
       "      <th>...</th>\n",
       "      <th>last_pymnt_amnt</th>\n",
       "      <th>collections_12_mths_ex_med</th>\n",
       "      <th>application_type</th>\n",
       "      <th>tot_coll_amt</th>\n",
       "      <th>tot_cur_bal</th>\n",
       "      <th>total_rev_hi_lim</th>\n",
       "      <th>default_ind</th>\n",
       "      <th>str_split</th>\n",
       "      <th>issue</th>\n",
       "      <th>date</th>\n",
       "    </tr>\n",
       "    <tr>\n",
       "      <th>issue_date</th>\n",
       "      <th></th>\n",
       "      <th></th>\n",
       "      <th></th>\n",
       "      <th></th>\n",
       "      <th></th>\n",
       "      <th></th>\n",
       "      <th></th>\n",
       "      <th></th>\n",
       "      <th></th>\n",
       "      <th></th>\n",
       "      <th></th>\n",
       "      <th></th>\n",
       "      <th></th>\n",
       "      <th></th>\n",
       "      <th></th>\n",
       "      <th></th>\n",
       "      <th></th>\n",
       "      <th></th>\n",
       "      <th></th>\n",
       "      <th></th>\n",
       "      <th></th>\n",
       "    </tr>\n",
       "  </thead>\n",
       "  <tbody>\n",
       "    <tr>\n",
       "      <th>200706</th>\n",
       "      <td>7500.0</td>\n",
       "      <td>7500.0</td>\n",
       "      <td>800.0</td>\n",
       "      <td>0</td>\n",
       "      <td>13.75</td>\n",
       "      <td>255.43</td>\n",
       "      <td>4</td>\n",
       "      <td>1.0</td>\n",
       "      <td>4</td>\n",
       "      <td>22000.0</td>\n",
       "      <td>...</td>\n",
       "      <td>256.59</td>\n",
       "      <td>0.01423</td>\n",
       "      <td>0</td>\n",
       "      <td>225.412882</td>\n",
       "      <td>139766.247529</td>\n",
       "      <td>32163.574526</td>\n",
       "      <td>0</td>\n",
       "      <td>[Jun, 2007]</td>\n",
       "      <td>06</td>\n",
       "      <td>2007</td>\n",
       "    </tr>\n",
       "    <tr>\n",
       "      <th>200707</th>\n",
       "      <td>5000.0</td>\n",
       "      <td>5000.0</td>\n",
       "      <td>4150.0</td>\n",
       "      <td>0</td>\n",
       "      <td>7.43</td>\n",
       "      <td>155.38</td>\n",
       "      <td>0</td>\n",
       "      <td>8.0</td>\n",
       "      <td>1</td>\n",
       "      <td>150000.0</td>\n",
       "      <td>...</td>\n",
       "      <td>4397.47</td>\n",
       "      <td>0.01423</td>\n",
       "      <td>0</td>\n",
       "      <td>225.412882</td>\n",
       "      <td>139766.247529</td>\n",
       "      <td>32163.574526</td>\n",
       "      <td>0</td>\n",
       "      <td>[Jul, 2007]</td>\n",
       "      <td>07</td>\n",
       "      <td>2007</td>\n",
       "    </tr>\n",
       "    <tr>\n",
       "      <th>200707</th>\n",
       "      <td>5750.0</td>\n",
       "      <td>5750.0</td>\n",
       "      <td>3675.0</td>\n",
       "      <td>0</td>\n",
       "      <td>7.43</td>\n",
       "      <td>178.69</td>\n",
       "      <td>0</td>\n",
       "      <td>10.0</td>\n",
       "      <td>1</td>\n",
       "      <td>125000.0</td>\n",
       "      <td>...</td>\n",
       "      <td>4.74</td>\n",
       "      <td>0.01423</td>\n",
       "      <td>0</td>\n",
       "      <td>225.412882</td>\n",
       "      <td>139766.247529</td>\n",
       "      <td>32163.574526</td>\n",
       "      <td>0</td>\n",
       "      <td>[Jul, 2007]</td>\n",
       "      <td>07</td>\n",
       "      <td>2007</td>\n",
       "    </tr>\n",
       "    <tr>\n",
       "      <th>200707</th>\n",
       "      <td>5000.0</td>\n",
       "      <td>5000.0</td>\n",
       "      <td>3975.0</td>\n",
       "      <td>0</td>\n",
       "      <td>7.43</td>\n",
       "      <td>155.38</td>\n",
       "      <td>0</td>\n",
       "      <td>6.0</td>\n",
       "      <td>5</td>\n",
       "      <td>40000.0</td>\n",
       "      <td>...</td>\n",
       "      <td>158.65</td>\n",
       "      <td>0.01423</td>\n",
       "      <td>0</td>\n",
       "      <td>225.412882</td>\n",
       "      <td>139766.247529</td>\n",
       "      <td>32163.574526</td>\n",
       "      <td>0</td>\n",
       "      <td>[Jul, 2007]</td>\n",
       "      <td>07</td>\n",
       "      <td>2007</td>\n",
       "    </tr>\n",
       "    <tr>\n",
       "      <th>200707</th>\n",
       "      <td>1200.0</td>\n",
       "      <td>1200.0</td>\n",
       "      <td>0.0</td>\n",
       "      <td>0</td>\n",
       "      <td>11.54</td>\n",
       "      <td>39.60</td>\n",
       "      <td>2</td>\n",
       "      <td>1.0</td>\n",
       "      <td>5</td>\n",
       "      <td>20000.0</td>\n",
       "      <td>...</td>\n",
       "      <td>39.45</td>\n",
       "      <td>0.01423</td>\n",
       "      <td>0</td>\n",
       "      <td>225.412882</td>\n",
       "      <td>139766.247529</td>\n",
       "      <td>32163.574526</td>\n",
       "      <td>0</td>\n",
       "      <td>[Jul, 2007]</td>\n",
       "      <td>07</td>\n",
       "      <td>2007</td>\n",
       "    </tr>\n",
       "  </tbody>\n",
       "</table>\n",
       "<p>5 rows × 42 columns</p>\n",
       "</div>"
      ],
      "text/plain": [
       "            loan_amnt  funded_amnt  funded_amnt_inv  term  int_rate  \\\n",
       "issue_date                                                            \n",
       "200706         7500.0       7500.0            800.0     0     13.75   \n",
       "200707         5000.0       5000.0           4150.0     0      7.43   \n",
       "200707         5750.0       5750.0           3675.0     0      7.43   \n",
       "200707         5000.0       5000.0           3975.0     0      7.43   \n",
       "200707         1200.0       1200.0              0.0     0     11.54   \n",
       "\n",
       "            installment  grade  emp_length  home_ownership  annual_inc  ...  \\\n",
       "issue_date                                                              ...   \n",
       "200706           255.43      4         1.0               4     22000.0  ...   \n",
       "200707           155.38      0         8.0               1    150000.0  ...   \n",
       "200707           178.69      0        10.0               1    125000.0  ...   \n",
       "200707           155.38      0         6.0               5     40000.0  ...   \n",
       "200707            39.60      2         1.0               5     20000.0  ...   \n",
       "\n",
       "            last_pymnt_amnt collections_12_mths_ex_med  application_type  \\\n",
       "issue_date                                                                 \n",
       "200706               256.59                    0.01423                 0   \n",
       "200707              4397.47                    0.01423                 0   \n",
       "200707                 4.74                    0.01423                 0   \n",
       "200707               158.65                    0.01423                 0   \n",
       "200707                39.45                    0.01423                 0   \n",
       "\n",
       "            tot_coll_amt    tot_cur_bal  total_rev_hi_lim  default_ind  \\\n",
       "issue_date                                                               \n",
       "200706        225.412882  139766.247529      32163.574526            0   \n",
       "200707        225.412882  139766.247529      32163.574526            0   \n",
       "200707        225.412882  139766.247529      32163.574526            0   \n",
       "200707        225.412882  139766.247529      32163.574526            0   \n",
       "200707        225.412882  139766.247529      32163.574526            0   \n",
       "\n",
       "              str_split  issue  date  \n",
       "issue_date                            \n",
       "200706      [Jun, 2007]     06  2007  \n",
       "200707      [Jul, 2007]     07  2007  \n",
       "200707      [Jul, 2007]     07  2007  \n",
       "200707      [Jul, 2007]     07  2007  \n",
       "200707      [Jul, 2007]     07  2007  \n",
       "\n",
       "[5 rows x 42 columns]"
      ]
     },
     "execution_count": 64,
     "metadata": {},
     "output_type": "execute_result"
    }
   ],
   "source": [
    "#reset the index as the issue_date\n",
    "\n",
    "xyz = xyz.set_index('issue_date')\n",
    "xyz.head()"
   ]
  },
  {
   "cell_type": "code",
   "execution_count": 65,
   "id": "sound-background",
   "metadata": {},
   "outputs": [],
   "source": [
    "#now that the issue_date has been set as the index remove the object columns created and present in the data\n",
    "\n",
    "xyz.drop(['issue_d', 'str_split', 'issue', 'date'], axis=1, inplace=True)"
   ]
  },
  {
   "cell_type": "code",
   "execution_count": 66,
   "id": "handed-bundle",
   "metadata": {},
   "outputs": [
    {
     "name": "stdout",
     "output_type": "stream",
     "text": [
      "<class 'pandas.core.frame.DataFrame'>\n",
      "Index: 855969 entries, 200706 to 201512\n",
      "Data columns (total 38 columns):\n",
      " #   Column                      Non-Null Count   Dtype  \n",
      "---  ------                      --------------   -----  \n",
      " 0   loan_amnt                   855969 non-null  float64\n",
      " 1   funded_amnt                 855969 non-null  float64\n",
      " 2   funded_amnt_inv             855969 non-null  float64\n",
      " 3   term                        855969 non-null  int32  \n",
      " 4   int_rate                    855969 non-null  float64\n",
      " 5   installment                 855969 non-null  float64\n",
      " 6   grade                       855969 non-null  int32  \n",
      " 7   emp_length                  855969 non-null  float64\n",
      " 8   home_ownership              855969 non-null  int32  \n",
      " 9   annual_inc                  855969 non-null  float64\n",
      " 10  verification_status         855969 non-null  int32  \n",
      " 11  pymnt_plan                  855969 non-null  int32  \n",
      " 12  purpose                     855969 non-null  int32  \n",
      " 13  dti                         855969 non-null  float64\n",
      " 14  delinq_2yrs                 855969 non-null  float64\n",
      " 15  inq_last_6mths              855969 non-null  float64\n",
      " 16  open_acc                    855969 non-null  float64\n",
      " 17  pub_rec                     855969 non-null  float64\n",
      " 18  revol_bal                   855969 non-null  float64\n",
      " 19  revol_util                  855969 non-null  float64\n",
      " 20  total_acc                   855969 non-null  float64\n",
      " 21  initial_list_status         855969 non-null  int32  \n",
      " 22  out_prncp                   855969 non-null  float64\n",
      " 23  out_prncp_inv               855969 non-null  float64\n",
      " 24  total_pymnt                 855969 non-null  float64\n",
      " 25  total_pymnt_inv             855969 non-null  float64\n",
      " 26  total_rec_prncp             855969 non-null  float64\n",
      " 27  total_rec_int               855969 non-null  float64\n",
      " 28  total_rec_late_fee          855969 non-null  float64\n",
      " 29  recoveries                  855969 non-null  float64\n",
      " 30  collection_recovery_fee     855969 non-null  float64\n",
      " 31  last_pymnt_amnt             855969 non-null  float64\n",
      " 32  collections_12_mths_ex_med  855969 non-null  float64\n",
      " 33  application_type            855969 non-null  int32  \n",
      " 34  tot_coll_amt                855969 non-null  float64\n",
      " 35  tot_cur_bal                 855969 non-null  float64\n",
      " 36  total_rev_hi_lim            855969 non-null  float64\n",
      " 37  default_ind                 855969 non-null  int64  \n",
      "dtypes: float64(29), int32(8), int64(1)\n",
      "memory usage: 228.6+ MB\n"
     ]
    }
   ],
   "source": [
    "xyz.info()"
   ]
  },
  {
   "cell_type": "markdown",
   "id": "patient-advocacy",
   "metadata": {},
   "source": [
    "# Data Split"
   ]
  },
  {
   "cell_type": "code",
   "execution_count": 67,
   "id": "devoted-suicide",
   "metadata": {},
   "outputs": [
    {
     "data": {
      "text/html": [
       "<div>\n",
       "<style scoped>\n",
       "    .dataframe tbody tr th:only-of-type {\n",
       "        vertical-align: middle;\n",
       "    }\n",
       "\n",
       "    .dataframe tbody tr th {\n",
       "        vertical-align: top;\n",
       "    }\n",
       "\n",
       "    .dataframe thead th {\n",
       "        text-align: right;\n",
       "    }\n",
       "</style>\n",
       "<table border=\"1\" class=\"dataframe\">\n",
       "  <thead>\n",
       "    <tr style=\"text-align: right;\">\n",
       "      <th></th>\n",
       "      <th>loan_amnt</th>\n",
       "      <th>funded_amnt</th>\n",
       "      <th>funded_amnt_inv</th>\n",
       "      <th>term</th>\n",
       "      <th>int_rate</th>\n",
       "      <th>installment</th>\n",
       "      <th>grade</th>\n",
       "      <th>emp_length</th>\n",
       "      <th>home_ownership</th>\n",
       "      <th>annual_inc</th>\n",
       "      <th>...</th>\n",
       "      <th>total_rec_late_fee</th>\n",
       "      <th>recoveries</th>\n",
       "      <th>collection_recovery_fee</th>\n",
       "      <th>last_pymnt_amnt</th>\n",
       "      <th>collections_12_mths_ex_med</th>\n",
       "      <th>application_type</th>\n",
       "      <th>tot_coll_amt</th>\n",
       "      <th>tot_cur_bal</th>\n",
       "      <th>total_rev_hi_lim</th>\n",
       "      <th>default_ind</th>\n",
       "    </tr>\n",
       "    <tr>\n",
       "      <th>issue_date</th>\n",
       "      <th></th>\n",
       "      <th></th>\n",
       "      <th></th>\n",
       "      <th></th>\n",
       "      <th></th>\n",
       "      <th></th>\n",
       "      <th></th>\n",
       "      <th></th>\n",
       "      <th></th>\n",
       "      <th></th>\n",
       "      <th></th>\n",
       "      <th></th>\n",
       "      <th></th>\n",
       "      <th></th>\n",
       "      <th></th>\n",
       "      <th></th>\n",
       "      <th></th>\n",
       "      <th></th>\n",
       "      <th></th>\n",
       "      <th></th>\n",
       "      <th></th>\n",
       "    </tr>\n",
       "  </thead>\n",
       "  <tbody>\n",
       "    <tr>\n",
       "      <th>200706</th>\n",
       "      <td>7500.0</td>\n",
       "      <td>7500.0</td>\n",
       "      <td>800.0</td>\n",
       "      <td>0</td>\n",
       "      <td>13.75</td>\n",
       "      <td>255.43</td>\n",
       "      <td>4</td>\n",
       "      <td>1.0</td>\n",
       "      <td>4</td>\n",
       "      <td>22000.0</td>\n",
       "      <td>...</td>\n",
       "      <td>0.0</td>\n",
       "      <td>0.0</td>\n",
       "      <td>0.0</td>\n",
       "      <td>256.59</td>\n",
       "      <td>0.01423</td>\n",
       "      <td>0</td>\n",
       "      <td>225.412882</td>\n",
       "      <td>139766.247529</td>\n",
       "      <td>32163.574526</td>\n",
       "      <td>0</td>\n",
       "    </tr>\n",
       "    <tr>\n",
       "      <th>200707</th>\n",
       "      <td>5000.0</td>\n",
       "      <td>5000.0</td>\n",
       "      <td>4150.0</td>\n",
       "      <td>0</td>\n",
       "      <td>7.43</td>\n",
       "      <td>155.38</td>\n",
       "      <td>0</td>\n",
       "      <td>8.0</td>\n",
       "      <td>1</td>\n",
       "      <td>150000.0</td>\n",
       "      <td>...</td>\n",
       "      <td>0.0</td>\n",
       "      <td>0.0</td>\n",
       "      <td>0.0</td>\n",
       "      <td>4397.47</td>\n",
       "      <td>0.01423</td>\n",
       "      <td>0</td>\n",
       "      <td>225.412882</td>\n",
       "      <td>139766.247529</td>\n",
       "      <td>32163.574526</td>\n",
       "      <td>0</td>\n",
       "    </tr>\n",
       "    <tr>\n",
       "      <th>200707</th>\n",
       "      <td>5750.0</td>\n",
       "      <td>5750.0</td>\n",
       "      <td>3675.0</td>\n",
       "      <td>0</td>\n",
       "      <td>7.43</td>\n",
       "      <td>178.69</td>\n",
       "      <td>0</td>\n",
       "      <td>10.0</td>\n",
       "      <td>1</td>\n",
       "      <td>125000.0</td>\n",
       "      <td>...</td>\n",
       "      <td>0.0</td>\n",
       "      <td>0.0</td>\n",
       "      <td>0.0</td>\n",
       "      <td>4.74</td>\n",
       "      <td>0.01423</td>\n",
       "      <td>0</td>\n",
       "      <td>225.412882</td>\n",
       "      <td>139766.247529</td>\n",
       "      <td>32163.574526</td>\n",
       "      <td>0</td>\n",
       "    </tr>\n",
       "    <tr>\n",
       "      <th>200707</th>\n",
       "      <td>5000.0</td>\n",
       "      <td>5000.0</td>\n",
       "      <td>3975.0</td>\n",
       "      <td>0</td>\n",
       "      <td>7.43</td>\n",
       "      <td>155.38</td>\n",
       "      <td>0</td>\n",
       "      <td>6.0</td>\n",
       "      <td>5</td>\n",
       "      <td>40000.0</td>\n",
       "      <td>...</td>\n",
       "      <td>0.0</td>\n",
       "      <td>0.0</td>\n",
       "      <td>0.0</td>\n",
       "      <td>158.65</td>\n",
       "      <td>0.01423</td>\n",
       "      <td>0</td>\n",
       "      <td>225.412882</td>\n",
       "      <td>139766.247529</td>\n",
       "      <td>32163.574526</td>\n",
       "      <td>0</td>\n",
       "    </tr>\n",
       "    <tr>\n",
       "      <th>200707</th>\n",
       "      <td>1200.0</td>\n",
       "      <td>1200.0</td>\n",
       "      <td>0.0</td>\n",
       "      <td>0</td>\n",
       "      <td>11.54</td>\n",
       "      <td>39.60</td>\n",
       "      <td>2</td>\n",
       "      <td>1.0</td>\n",
       "      <td>5</td>\n",
       "      <td>20000.0</td>\n",
       "      <td>...</td>\n",
       "      <td>0.0</td>\n",
       "      <td>0.0</td>\n",
       "      <td>0.0</td>\n",
       "      <td>39.45</td>\n",
       "      <td>0.01423</td>\n",
       "      <td>0</td>\n",
       "      <td>225.412882</td>\n",
       "      <td>139766.247529</td>\n",
       "      <td>32163.574526</td>\n",
       "      <td>0</td>\n",
       "    </tr>\n",
       "  </tbody>\n",
       "</table>\n",
       "<p>5 rows × 38 columns</p>\n",
       "</div>"
      ],
      "text/plain": [
       "            loan_amnt  funded_amnt  funded_amnt_inv  term  int_rate  \\\n",
       "issue_date                                                            \n",
       "200706         7500.0       7500.0            800.0     0     13.75   \n",
       "200707         5000.0       5000.0           4150.0     0      7.43   \n",
       "200707         5750.0       5750.0           3675.0     0      7.43   \n",
       "200707         5000.0       5000.0           3975.0     0      7.43   \n",
       "200707         1200.0       1200.0              0.0     0     11.54   \n",
       "\n",
       "            installment  grade  emp_length  home_ownership  annual_inc  ...  \\\n",
       "issue_date                                                              ...   \n",
       "200706           255.43      4         1.0               4     22000.0  ...   \n",
       "200707           155.38      0         8.0               1    150000.0  ...   \n",
       "200707           178.69      0        10.0               1    125000.0  ...   \n",
       "200707           155.38      0         6.0               5     40000.0  ...   \n",
       "200707            39.60      2         1.0               5     20000.0  ...   \n",
       "\n",
       "            total_rec_late_fee  recoveries  collection_recovery_fee  \\\n",
       "issue_date                                                            \n",
       "200706                     0.0         0.0                      0.0   \n",
       "200707                     0.0         0.0                      0.0   \n",
       "200707                     0.0         0.0                      0.0   \n",
       "200707                     0.0         0.0                      0.0   \n",
       "200707                     0.0         0.0                      0.0   \n",
       "\n",
       "            last_pymnt_amnt  collections_12_mths_ex_med  application_type  \\\n",
       "issue_date                                                                  \n",
       "200706               256.59                     0.01423                 0   \n",
       "200707              4397.47                     0.01423                 0   \n",
       "200707                 4.74                     0.01423                 0   \n",
       "200707               158.65                     0.01423                 0   \n",
       "200707                39.45                     0.01423                 0   \n",
       "\n",
       "            tot_coll_amt    tot_cur_bal  total_rev_hi_lim  default_ind  \n",
       "issue_date                                                              \n",
       "200706        225.412882  139766.247529      32163.574526            0  \n",
       "200707        225.412882  139766.247529      32163.574526            0  \n",
       "200707        225.412882  139766.247529      32163.574526            0  \n",
       "200707        225.412882  139766.247529      32163.574526            0  \n",
       "200707        225.412882  139766.247529      32163.574526            0  \n",
       "\n",
       "[5 rows x 38 columns]"
      ]
     },
     "execution_count": 67,
     "metadata": {},
     "output_type": "execute_result"
    }
   ],
   "source": [
    "#split the data into train and test\n",
    "\n",
    "xyz.head()"
   ]
  },
  {
   "cell_type": "code",
   "execution_count": 68,
   "id": "sustainable-summary",
   "metadata": {},
   "outputs": [
    {
     "data": {
      "text/html": [
       "<div>\n",
       "<style scoped>\n",
       "    .dataframe tbody tr th:only-of-type {\n",
       "        vertical-align: middle;\n",
       "    }\n",
       "\n",
       "    .dataframe tbody tr th {\n",
       "        vertical-align: top;\n",
       "    }\n",
       "\n",
       "    .dataframe thead th {\n",
       "        text-align: right;\n",
       "    }\n",
       "</style>\n",
       "<table border=\"1\" class=\"dataframe\">\n",
       "  <thead>\n",
       "    <tr style=\"text-align: right;\">\n",
       "      <th></th>\n",
       "      <th>loan_amnt</th>\n",
       "      <th>funded_amnt</th>\n",
       "      <th>funded_amnt_inv</th>\n",
       "      <th>term</th>\n",
       "      <th>int_rate</th>\n",
       "      <th>installment</th>\n",
       "      <th>grade</th>\n",
       "      <th>emp_length</th>\n",
       "      <th>home_ownership</th>\n",
       "      <th>annual_inc</th>\n",
       "      <th>...</th>\n",
       "      <th>total_rec_late_fee</th>\n",
       "      <th>recoveries</th>\n",
       "      <th>collection_recovery_fee</th>\n",
       "      <th>last_pymnt_amnt</th>\n",
       "      <th>collections_12_mths_ex_med</th>\n",
       "      <th>application_type</th>\n",
       "      <th>tot_coll_amt</th>\n",
       "      <th>tot_cur_bal</th>\n",
       "      <th>total_rev_hi_lim</th>\n",
       "      <th>default_ind</th>\n",
       "    </tr>\n",
       "    <tr>\n",
       "      <th>issue_date</th>\n",
       "      <th></th>\n",
       "      <th></th>\n",
       "      <th></th>\n",
       "      <th></th>\n",
       "      <th></th>\n",
       "      <th></th>\n",
       "      <th></th>\n",
       "      <th></th>\n",
       "      <th></th>\n",
       "      <th></th>\n",
       "      <th></th>\n",
       "      <th></th>\n",
       "      <th></th>\n",
       "      <th></th>\n",
       "      <th></th>\n",
       "      <th></th>\n",
       "      <th></th>\n",
       "      <th></th>\n",
       "      <th></th>\n",
       "      <th></th>\n",
       "      <th></th>\n",
       "    </tr>\n",
       "  </thead>\n",
       "  <tbody>\n",
       "    <tr>\n",
       "      <th>201512</th>\n",
       "      <td>14400.0</td>\n",
       "      <td>14400.0</td>\n",
       "      <td>14400.0</td>\n",
       "      <td>0</td>\n",
       "      <td>11.99</td>\n",
       "      <td>478.22</td>\n",
       "      <td>2</td>\n",
       "      <td>8.000000</td>\n",
       "      <td>5</td>\n",
       "      <td>57000.0</td>\n",
       "      <td>...</td>\n",
       "      <td>0.0</td>\n",
       "      <td>0.0</td>\n",
       "      <td>0.0</td>\n",
       "      <td>478.22</td>\n",
       "      <td>0.0</td>\n",
       "      <td>0</td>\n",
       "      <td>0.0</td>\n",
       "      <td>35418.0</td>\n",
       "      <td>13000.0</td>\n",
       "      <td>0</td>\n",
       "    </tr>\n",
       "    <tr>\n",
       "      <th>201512</th>\n",
       "      <td>20000.0</td>\n",
       "      <td>20000.0</td>\n",
       "      <td>20000.0</td>\n",
       "      <td>0</td>\n",
       "      <td>5.32</td>\n",
       "      <td>602.30</td>\n",
       "      <td>0</td>\n",
       "      <td>6.102489</td>\n",
       "      <td>1</td>\n",
       "      <td>99000.0</td>\n",
       "      <td>...</td>\n",
       "      <td>0.0</td>\n",
       "      <td>0.0</td>\n",
       "      <td>0.0</td>\n",
       "      <td>602.30</td>\n",
       "      <td>0.0</td>\n",
       "      <td>0</td>\n",
       "      <td>0.0</td>\n",
       "      <td>35828.0</td>\n",
       "      <td>54400.0</td>\n",
       "      <td>0</td>\n",
       "    </tr>\n",
       "    <tr>\n",
       "      <th>201512</th>\n",
       "      <td>12000.0</td>\n",
       "      <td>12000.0</td>\n",
       "      <td>12000.0</td>\n",
       "      <td>1</td>\n",
       "      <td>13.67</td>\n",
       "      <td>277.18</td>\n",
       "      <td>2</td>\n",
       "      <td>9.000000</td>\n",
       "      <td>5</td>\n",
       "      <td>40000.0</td>\n",
       "      <td>...</td>\n",
       "      <td>0.0</td>\n",
       "      <td>0.0</td>\n",
       "      <td>0.0</td>\n",
       "      <td>277.18</td>\n",
       "      <td>0.0</td>\n",
       "      <td>0</td>\n",
       "      <td>0.0</td>\n",
       "      <td>66850.0</td>\n",
       "      <td>21000.0</td>\n",
       "      <td>0</td>\n",
       "    </tr>\n",
       "    <tr>\n",
       "      <th>201512</th>\n",
       "      <td>35000.0</td>\n",
       "      <td>35000.0</td>\n",
       "      <td>35000.0</td>\n",
       "      <td>0</td>\n",
       "      <td>11.22</td>\n",
       "      <td>1149.51</td>\n",
       "      <td>1</td>\n",
       "      <td>2.000000</td>\n",
       "      <td>5</td>\n",
       "      <td>120000.0</td>\n",
       "      <td>...</td>\n",
       "      <td>0.0</td>\n",
       "      <td>0.0</td>\n",
       "      <td>0.0</td>\n",
       "      <td>1149.51</td>\n",
       "      <td>0.0</td>\n",
       "      <td>0</td>\n",
       "      <td>0.0</td>\n",
       "      <td>9224.0</td>\n",
       "      <td>25800.0</td>\n",
       "      <td>0</td>\n",
       "    </tr>\n",
       "    <tr>\n",
       "      <th>201512</th>\n",
       "      <td>34500.0</td>\n",
       "      <td>34500.0</td>\n",
       "      <td>34500.0</td>\n",
       "      <td>1</td>\n",
       "      <td>15.41</td>\n",
       "      <td>828.20</td>\n",
       "      <td>3</td>\n",
       "      <td>2.000000</td>\n",
       "      <td>5</td>\n",
       "      <td>76000.0</td>\n",
       "      <td>...</td>\n",
       "      <td>0.0</td>\n",
       "      <td>0.0</td>\n",
       "      <td>0.0</td>\n",
       "      <td>828.20</td>\n",
       "      <td>0.0</td>\n",
       "      <td>0</td>\n",
       "      <td>0.0</td>\n",
       "      <td>47896.0</td>\n",
       "      <td>59900.0</td>\n",
       "      <td>0</td>\n",
       "    </tr>\n",
       "  </tbody>\n",
       "</table>\n",
       "<p>5 rows × 38 columns</p>\n",
       "</div>"
      ],
      "text/plain": [
       "            loan_amnt  funded_amnt  funded_amnt_inv  term  int_rate  \\\n",
       "issue_date                                                            \n",
       "201512        14400.0      14400.0          14400.0     0     11.99   \n",
       "201512        20000.0      20000.0          20000.0     0      5.32   \n",
       "201512        12000.0      12000.0          12000.0     1     13.67   \n",
       "201512        35000.0      35000.0          35000.0     0     11.22   \n",
       "201512        34500.0      34500.0          34500.0     1     15.41   \n",
       "\n",
       "            installment  grade  emp_length  home_ownership  annual_inc  ...  \\\n",
       "issue_date                                                              ...   \n",
       "201512           478.22      2    8.000000               5     57000.0  ...   \n",
       "201512           602.30      0    6.102489               1     99000.0  ...   \n",
       "201512           277.18      2    9.000000               5     40000.0  ...   \n",
       "201512          1149.51      1    2.000000               5    120000.0  ...   \n",
       "201512           828.20      3    2.000000               5     76000.0  ...   \n",
       "\n",
       "            total_rec_late_fee  recoveries  collection_recovery_fee  \\\n",
       "issue_date                                                            \n",
       "201512                     0.0         0.0                      0.0   \n",
       "201512                     0.0         0.0                      0.0   \n",
       "201512                     0.0         0.0                      0.0   \n",
       "201512                     0.0         0.0                      0.0   \n",
       "201512                     0.0         0.0                      0.0   \n",
       "\n",
       "            last_pymnt_amnt  collections_12_mths_ex_med  application_type  \\\n",
       "issue_date                                                                  \n",
       "201512               478.22                         0.0                 0   \n",
       "201512               602.30                         0.0                 0   \n",
       "201512               277.18                         0.0                 0   \n",
       "201512              1149.51                         0.0                 0   \n",
       "201512               828.20                         0.0                 0   \n",
       "\n",
       "            tot_coll_amt  tot_cur_bal  total_rev_hi_lim  default_ind  \n",
       "issue_date                                                            \n",
       "201512               0.0      35418.0           13000.0            0  \n",
       "201512               0.0      35828.0           54400.0            0  \n",
       "201512               0.0      66850.0           21000.0            0  \n",
       "201512               0.0       9224.0           25800.0            0  \n",
       "201512               0.0      47896.0           59900.0            0  \n",
       "\n",
       "[5 rows x 38 columns]"
      ]
     },
     "execution_count": 68,
     "metadata": {},
     "output_type": "execute_result"
    }
   ],
   "source": [
    "xyz.tail()"
   ]
  },
  {
   "cell_type": "code",
   "execution_count": 69,
   "id": "south-absorption",
   "metadata": {},
   "outputs": [],
   "source": [
    "#using the issue date columns to split the data into train and test\n",
    "#split the train data from Jun 2007 to May 2015\n",
    "#split the test data from Jun 2015 to Dec 2015\n",
    "\n",
    "train_set = xyz.loc['200706':'201505',:]\n",
    "test_set = xyz.loc['201506':'201512',:]"
   ]
  },
  {
   "cell_type": "code",
   "execution_count": 70,
   "id": "verified-request",
   "metadata": {},
   "outputs": [
    {
     "data": {
      "text/plain": [
       "(598978, 38)"
      ]
     },
     "execution_count": 70,
     "metadata": {},
     "output_type": "execute_result"
    }
   ],
   "source": [
    "train_set.shape"
   ]
  },
  {
   "cell_type": "code",
   "execution_count": 71,
   "id": "located-friend",
   "metadata": {},
   "outputs": [
    {
     "data": {
      "text/plain": [
       "(256991, 38)"
      ]
     },
     "execution_count": 71,
     "metadata": {},
     "output_type": "execute_result"
    }
   ],
   "source": [
    "test_set.shape"
   ]
  },
  {
   "cell_type": "code",
   "execution_count": 72,
   "id": "negative-approach",
   "metadata": {},
   "outputs": [
    {
     "data": {
      "text/html": [
       "<div>\n",
       "<style scoped>\n",
       "    .dataframe tbody tr th:only-of-type {\n",
       "        vertical-align: middle;\n",
       "    }\n",
       "\n",
       "    .dataframe tbody tr th {\n",
       "        vertical-align: top;\n",
       "    }\n",
       "\n",
       "    .dataframe thead th {\n",
       "        text-align: right;\n",
       "    }\n",
       "</style>\n",
       "<table border=\"1\" class=\"dataframe\">\n",
       "  <thead>\n",
       "    <tr style=\"text-align: right;\">\n",
       "      <th></th>\n",
       "      <th>loan_amnt</th>\n",
       "      <th>funded_amnt</th>\n",
       "      <th>funded_amnt_inv</th>\n",
       "      <th>term</th>\n",
       "      <th>int_rate</th>\n",
       "      <th>installment</th>\n",
       "      <th>grade</th>\n",
       "      <th>emp_length</th>\n",
       "      <th>home_ownership</th>\n",
       "      <th>annual_inc</th>\n",
       "      <th>...</th>\n",
       "      <th>total_rec_late_fee</th>\n",
       "      <th>recoveries</th>\n",
       "      <th>collection_recovery_fee</th>\n",
       "      <th>last_pymnt_amnt</th>\n",
       "      <th>collections_12_mths_ex_med</th>\n",
       "      <th>application_type</th>\n",
       "      <th>tot_coll_amt</th>\n",
       "      <th>tot_cur_bal</th>\n",
       "      <th>total_rev_hi_lim</th>\n",
       "      <th>default_ind</th>\n",
       "    </tr>\n",
       "    <tr>\n",
       "      <th>issue_date</th>\n",
       "      <th></th>\n",
       "      <th></th>\n",
       "      <th></th>\n",
       "      <th></th>\n",
       "      <th></th>\n",
       "      <th></th>\n",
       "      <th></th>\n",
       "      <th></th>\n",
       "      <th></th>\n",
       "      <th></th>\n",
       "      <th></th>\n",
       "      <th></th>\n",
       "      <th></th>\n",
       "      <th></th>\n",
       "      <th></th>\n",
       "      <th></th>\n",
       "      <th></th>\n",
       "      <th></th>\n",
       "      <th></th>\n",
       "      <th></th>\n",
       "      <th></th>\n",
       "    </tr>\n",
       "  </thead>\n",
       "  <tbody>\n",
       "    <tr>\n",
       "      <th>200706</th>\n",
       "      <td>7500.0</td>\n",
       "      <td>7500.0</td>\n",
       "      <td>800.0</td>\n",
       "      <td>0</td>\n",
       "      <td>13.75</td>\n",
       "      <td>255.43</td>\n",
       "      <td>4</td>\n",
       "      <td>1.000000</td>\n",
       "      <td>4</td>\n",
       "      <td>22000.0</td>\n",
       "      <td>...</td>\n",
       "      <td>0.0</td>\n",
       "      <td>0.0</td>\n",
       "      <td>0.0</td>\n",
       "      <td>256.59</td>\n",
       "      <td>0.01423</td>\n",
       "      <td>0</td>\n",
       "      <td>225.412882</td>\n",
       "      <td>139766.247529</td>\n",
       "      <td>32163.574526</td>\n",
       "      <td>0</td>\n",
       "    </tr>\n",
       "    <tr>\n",
       "      <th>200707</th>\n",
       "      <td>5000.0</td>\n",
       "      <td>5000.0</td>\n",
       "      <td>4150.0</td>\n",
       "      <td>0</td>\n",
       "      <td>7.43</td>\n",
       "      <td>155.38</td>\n",
       "      <td>0</td>\n",
       "      <td>8.000000</td>\n",
       "      <td>1</td>\n",
       "      <td>150000.0</td>\n",
       "      <td>...</td>\n",
       "      <td>0.0</td>\n",
       "      <td>0.0</td>\n",
       "      <td>0.0</td>\n",
       "      <td>4397.47</td>\n",
       "      <td>0.01423</td>\n",
       "      <td>0</td>\n",
       "      <td>225.412882</td>\n",
       "      <td>139766.247529</td>\n",
       "      <td>32163.574526</td>\n",
       "      <td>0</td>\n",
       "    </tr>\n",
       "    <tr>\n",
       "      <th>200707</th>\n",
       "      <td>5750.0</td>\n",
       "      <td>5750.0</td>\n",
       "      <td>3675.0</td>\n",
       "      <td>0</td>\n",
       "      <td>7.43</td>\n",
       "      <td>178.69</td>\n",
       "      <td>0</td>\n",
       "      <td>10.000000</td>\n",
       "      <td>1</td>\n",
       "      <td>125000.0</td>\n",
       "      <td>...</td>\n",
       "      <td>0.0</td>\n",
       "      <td>0.0</td>\n",
       "      <td>0.0</td>\n",
       "      <td>4.74</td>\n",
       "      <td>0.01423</td>\n",
       "      <td>0</td>\n",
       "      <td>225.412882</td>\n",
       "      <td>139766.247529</td>\n",
       "      <td>32163.574526</td>\n",
       "      <td>0</td>\n",
       "    </tr>\n",
       "    <tr>\n",
       "      <th>200707</th>\n",
       "      <td>5000.0</td>\n",
       "      <td>5000.0</td>\n",
       "      <td>3975.0</td>\n",
       "      <td>0</td>\n",
       "      <td>7.43</td>\n",
       "      <td>155.38</td>\n",
       "      <td>0</td>\n",
       "      <td>6.000000</td>\n",
       "      <td>5</td>\n",
       "      <td>40000.0</td>\n",
       "      <td>...</td>\n",
       "      <td>0.0</td>\n",
       "      <td>0.0</td>\n",
       "      <td>0.0</td>\n",
       "      <td>158.65</td>\n",
       "      <td>0.01423</td>\n",
       "      <td>0</td>\n",
       "      <td>225.412882</td>\n",
       "      <td>139766.247529</td>\n",
       "      <td>32163.574526</td>\n",
       "      <td>0</td>\n",
       "    </tr>\n",
       "    <tr>\n",
       "      <th>200707</th>\n",
       "      <td>1200.0</td>\n",
       "      <td>1200.0</td>\n",
       "      <td>0.0</td>\n",
       "      <td>0</td>\n",
       "      <td>11.54</td>\n",
       "      <td>39.60</td>\n",
       "      <td>2</td>\n",
       "      <td>1.000000</td>\n",
       "      <td>5</td>\n",
       "      <td>20000.0</td>\n",
       "      <td>...</td>\n",
       "      <td>0.0</td>\n",
       "      <td>0.0</td>\n",
       "      <td>0.0</td>\n",
       "      <td>39.45</td>\n",
       "      <td>0.01423</td>\n",
       "      <td>0</td>\n",
       "      <td>225.412882</td>\n",
       "      <td>139766.247529</td>\n",
       "      <td>32163.574526</td>\n",
       "      <td>0</td>\n",
       "    </tr>\n",
       "    <tr>\n",
       "      <th>...</th>\n",
       "      <td>...</td>\n",
       "      <td>...</td>\n",
       "      <td>...</td>\n",
       "      <td>...</td>\n",
       "      <td>...</td>\n",
       "      <td>...</td>\n",
       "      <td>...</td>\n",
       "      <td>...</td>\n",
       "      <td>...</td>\n",
       "      <td>...</td>\n",
       "      <td>...</td>\n",
       "      <td>...</td>\n",
       "      <td>...</td>\n",
       "      <td>...</td>\n",
       "      <td>...</td>\n",
       "      <td>...</td>\n",
       "      <td>...</td>\n",
       "      <td>...</td>\n",
       "      <td>...</td>\n",
       "      <td>...</td>\n",
       "      <td>...</td>\n",
       "    </tr>\n",
       "    <tr>\n",
       "      <th>201505</th>\n",
       "      <td>8800.0</td>\n",
       "      <td>8800.0</td>\n",
       "      <td>8800.0</td>\n",
       "      <td>0</td>\n",
       "      <td>10.99</td>\n",
       "      <td>288.06</td>\n",
       "      <td>1</td>\n",
       "      <td>6.102489</td>\n",
       "      <td>1</td>\n",
       "      <td>20000.0</td>\n",
       "      <td>...</td>\n",
       "      <td>0.0</td>\n",
       "      <td>0.0</td>\n",
       "      <td>0.0</td>\n",
       "      <td>288.06</td>\n",
       "      <td>0.00000</td>\n",
       "      <td>0</td>\n",
       "      <td>0.000000</td>\n",
       "      <td>72575.000000</td>\n",
       "      <td>11700.000000</td>\n",
       "      <td>0</td>\n",
       "    </tr>\n",
       "    <tr>\n",
       "      <th>201505</th>\n",
       "      <td>12000.0</td>\n",
       "      <td>12000.0</td>\n",
       "      <td>12000.0</td>\n",
       "      <td>0</td>\n",
       "      <td>6.39</td>\n",
       "      <td>367.19</td>\n",
       "      <td>0</td>\n",
       "      <td>8.000000</td>\n",
       "      <td>1</td>\n",
       "      <td>69000.0</td>\n",
       "      <td>...</td>\n",
       "      <td>0.0</td>\n",
       "      <td>0.0</td>\n",
       "      <td>0.0</td>\n",
       "      <td>367.19</td>\n",
       "      <td>0.00000</td>\n",
       "      <td>0</td>\n",
       "      <td>0.000000</td>\n",
       "      <td>129286.000000</td>\n",
       "      <td>37500.000000</td>\n",
       "      <td>0</td>\n",
       "    </tr>\n",
       "    <tr>\n",
       "      <th>201505</th>\n",
       "      <td>16000.0</td>\n",
       "      <td>16000.0</td>\n",
       "      <td>16000.0</td>\n",
       "      <td>0</td>\n",
       "      <td>6.92</td>\n",
       "      <td>493.45</td>\n",
       "      <td>0</td>\n",
       "      <td>5.000000</td>\n",
       "      <td>1</td>\n",
       "      <td>165000.0</td>\n",
       "      <td>...</td>\n",
       "      <td>0.0</td>\n",
       "      <td>0.0</td>\n",
       "      <td>0.0</td>\n",
       "      <td>493.45</td>\n",
       "      <td>0.00000</td>\n",
       "      <td>0</td>\n",
       "      <td>321.000000</td>\n",
       "      <td>236729.000000</td>\n",
       "      <td>87800.000000</td>\n",
       "      <td>0</td>\n",
       "    </tr>\n",
       "    <tr>\n",
       "      <th>201505</th>\n",
       "      <td>10000.0</td>\n",
       "      <td>10000.0</td>\n",
       "      <td>10000.0</td>\n",
       "      <td>0</td>\n",
       "      <td>6.92</td>\n",
       "      <td>308.41</td>\n",
       "      <td>0</td>\n",
       "      <td>5.000000</td>\n",
       "      <td>1</td>\n",
       "      <td>45000.0</td>\n",
       "      <td>...</td>\n",
       "      <td>0.0</td>\n",
       "      <td>0.0</td>\n",
       "      <td>0.0</td>\n",
       "      <td>308.41</td>\n",
       "      <td>0.00000</td>\n",
       "      <td>0</td>\n",
       "      <td>0.000000</td>\n",
       "      <td>134074.000000</td>\n",
       "      <td>6200.000000</td>\n",
       "      <td>0</td>\n",
       "    </tr>\n",
       "    <tr>\n",
       "      <th>201505</th>\n",
       "      <td>5000.0</td>\n",
       "      <td>5000.0</td>\n",
       "      <td>5000.0</td>\n",
       "      <td>0</td>\n",
       "      <td>6.92</td>\n",
       "      <td>154.21</td>\n",
       "      <td>0</td>\n",
       "      <td>10.000000</td>\n",
       "      <td>1</td>\n",
       "      <td>20000.0</td>\n",
       "      <td>...</td>\n",
       "      <td>0.0</td>\n",
       "      <td>0.0</td>\n",
       "      <td>0.0</td>\n",
       "      <td>4669.09</td>\n",
       "      <td>0.00000</td>\n",
       "      <td>0</td>\n",
       "      <td>0.000000</td>\n",
       "      <td>129224.000000</td>\n",
       "      <td>16000.000000</td>\n",
       "      <td>0</td>\n",
       "    </tr>\n",
       "  </tbody>\n",
       "</table>\n",
       "<p>598978 rows × 38 columns</p>\n",
       "</div>"
      ],
      "text/plain": [
       "            loan_amnt  funded_amnt  funded_amnt_inv  term  int_rate  \\\n",
       "issue_date                                                            \n",
       "200706         7500.0       7500.0            800.0     0     13.75   \n",
       "200707         5000.0       5000.0           4150.0     0      7.43   \n",
       "200707         5750.0       5750.0           3675.0     0      7.43   \n",
       "200707         5000.0       5000.0           3975.0     0      7.43   \n",
       "200707         1200.0       1200.0              0.0     0     11.54   \n",
       "...               ...          ...              ...   ...       ...   \n",
       "201505         8800.0       8800.0           8800.0     0     10.99   \n",
       "201505        12000.0      12000.0          12000.0     0      6.39   \n",
       "201505        16000.0      16000.0          16000.0     0      6.92   \n",
       "201505        10000.0      10000.0          10000.0     0      6.92   \n",
       "201505         5000.0       5000.0           5000.0     0      6.92   \n",
       "\n",
       "            installment  grade  emp_length  home_ownership  annual_inc  ...  \\\n",
       "issue_date                                                              ...   \n",
       "200706           255.43      4    1.000000               4     22000.0  ...   \n",
       "200707           155.38      0    8.000000               1    150000.0  ...   \n",
       "200707           178.69      0   10.000000               1    125000.0  ...   \n",
       "200707           155.38      0    6.000000               5     40000.0  ...   \n",
       "200707            39.60      2    1.000000               5     20000.0  ...   \n",
       "...                 ...    ...         ...             ...         ...  ...   \n",
       "201505           288.06      1    6.102489               1     20000.0  ...   \n",
       "201505           367.19      0    8.000000               1     69000.0  ...   \n",
       "201505           493.45      0    5.000000               1    165000.0  ...   \n",
       "201505           308.41      0    5.000000               1     45000.0  ...   \n",
       "201505           154.21      0   10.000000               1     20000.0  ...   \n",
       "\n",
       "            total_rec_late_fee  recoveries  collection_recovery_fee  \\\n",
       "issue_date                                                            \n",
       "200706                     0.0         0.0                      0.0   \n",
       "200707                     0.0         0.0                      0.0   \n",
       "200707                     0.0         0.0                      0.0   \n",
       "200707                     0.0         0.0                      0.0   \n",
       "200707                     0.0         0.0                      0.0   \n",
       "...                        ...         ...                      ...   \n",
       "201505                     0.0         0.0                      0.0   \n",
       "201505                     0.0         0.0                      0.0   \n",
       "201505                     0.0         0.0                      0.0   \n",
       "201505                     0.0         0.0                      0.0   \n",
       "201505                     0.0         0.0                      0.0   \n",
       "\n",
       "            last_pymnt_amnt  collections_12_mths_ex_med  application_type  \\\n",
       "issue_date                                                                  \n",
       "200706               256.59                     0.01423                 0   \n",
       "200707              4397.47                     0.01423                 0   \n",
       "200707                 4.74                     0.01423                 0   \n",
       "200707               158.65                     0.01423                 0   \n",
       "200707                39.45                     0.01423                 0   \n",
       "...                     ...                         ...               ...   \n",
       "201505               288.06                     0.00000                 0   \n",
       "201505               367.19                     0.00000                 0   \n",
       "201505               493.45                     0.00000                 0   \n",
       "201505               308.41                     0.00000                 0   \n",
       "201505              4669.09                     0.00000                 0   \n",
       "\n",
       "            tot_coll_amt    tot_cur_bal  total_rev_hi_lim  default_ind  \n",
       "issue_date                                                              \n",
       "200706        225.412882  139766.247529      32163.574526            0  \n",
       "200707        225.412882  139766.247529      32163.574526            0  \n",
       "200707        225.412882  139766.247529      32163.574526            0  \n",
       "200707        225.412882  139766.247529      32163.574526            0  \n",
       "200707        225.412882  139766.247529      32163.574526            0  \n",
       "...                  ...            ...               ...          ...  \n",
       "201505          0.000000   72575.000000      11700.000000            0  \n",
       "201505          0.000000  129286.000000      37500.000000            0  \n",
       "201505        321.000000  236729.000000      87800.000000            0  \n",
       "201505          0.000000  134074.000000       6200.000000            0  \n",
       "201505          0.000000  129224.000000      16000.000000            0  \n",
       "\n",
       "[598978 rows x 38 columns]"
      ]
     },
     "execution_count": 72,
     "metadata": {},
     "output_type": "execute_result"
    }
   ],
   "source": [
    "#define X_train\n",
    "X_train = train_set.copy()\n",
    "X_train"
   ]
  },
  {
   "cell_type": "code",
   "execution_count": 73,
   "id": "least-coordinator",
   "metadata": {},
   "outputs": [],
   "source": [
    "#drop the target varible from the train data\n",
    "X_train.drop(['default_ind'], axis=1, inplace=True)"
   ]
  },
  {
   "cell_type": "code",
   "execution_count": 74,
   "id": "level-snake",
   "metadata": {},
   "outputs": [
    {
     "data": {
      "text/html": [
       "<div>\n",
       "<style scoped>\n",
       "    .dataframe tbody tr th:only-of-type {\n",
       "        vertical-align: middle;\n",
       "    }\n",
       "\n",
       "    .dataframe tbody tr th {\n",
       "        vertical-align: top;\n",
       "    }\n",
       "\n",
       "    .dataframe thead th {\n",
       "        text-align: right;\n",
       "    }\n",
       "</style>\n",
       "<table border=\"1\" class=\"dataframe\">\n",
       "  <thead>\n",
       "    <tr style=\"text-align: right;\">\n",
       "      <th></th>\n",
       "      <th>loan_amnt</th>\n",
       "      <th>funded_amnt</th>\n",
       "      <th>funded_amnt_inv</th>\n",
       "      <th>term</th>\n",
       "      <th>int_rate</th>\n",
       "      <th>installment</th>\n",
       "      <th>grade</th>\n",
       "      <th>emp_length</th>\n",
       "      <th>home_ownership</th>\n",
       "      <th>annual_inc</th>\n",
       "      <th>...</th>\n",
       "      <th>total_rec_late_fee</th>\n",
       "      <th>recoveries</th>\n",
       "      <th>collection_recovery_fee</th>\n",
       "      <th>last_pymnt_amnt</th>\n",
       "      <th>collections_12_mths_ex_med</th>\n",
       "      <th>application_type</th>\n",
       "      <th>tot_coll_amt</th>\n",
       "      <th>tot_cur_bal</th>\n",
       "      <th>total_rev_hi_lim</th>\n",
       "      <th>default_ind</th>\n",
       "    </tr>\n",
       "    <tr>\n",
       "      <th>issue_date</th>\n",
       "      <th></th>\n",
       "      <th></th>\n",
       "      <th></th>\n",
       "      <th></th>\n",
       "      <th></th>\n",
       "      <th></th>\n",
       "      <th></th>\n",
       "      <th></th>\n",
       "      <th></th>\n",
       "      <th></th>\n",
       "      <th></th>\n",
       "      <th></th>\n",
       "      <th></th>\n",
       "      <th></th>\n",
       "      <th></th>\n",
       "      <th></th>\n",
       "      <th></th>\n",
       "      <th></th>\n",
       "      <th></th>\n",
       "      <th></th>\n",
       "      <th></th>\n",
       "    </tr>\n",
       "  </thead>\n",
       "  <tbody>\n",
       "    <tr>\n",
       "      <th>201506</th>\n",
       "      <td>35000.0</td>\n",
       "      <td>35000.0</td>\n",
       "      <td>35000.0</td>\n",
       "      <td>0</td>\n",
       "      <td>9.17</td>\n",
       "      <td>1115.77</td>\n",
       "      <td>1</td>\n",
       "      <td>1.000000</td>\n",
       "      <td>1</td>\n",
       "      <td>130000.0</td>\n",
       "      <td>...</td>\n",
       "      <td>0.0</td>\n",
       "      <td>0.0</td>\n",
       "      <td>0.0</td>\n",
       "      <td>1115.77</td>\n",
       "      <td>0.0</td>\n",
       "      <td>0</td>\n",
       "      <td>0.0</td>\n",
       "      <td>227294.0</td>\n",
       "      <td>70500.0</td>\n",
       "      <td>0</td>\n",
       "    </tr>\n",
       "    <tr>\n",
       "      <th>201506</th>\n",
       "      <td>11500.0</td>\n",
       "      <td>11500.0</td>\n",
       "      <td>11475.0</td>\n",
       "      <td>1</td>\n",
       "      <td>9.17</td>\n",
       "      <td>239.68</td>\n",
       "      <td>1</td>\n",
       "      <td>10.000000</td>\n",
       "      <td>5</td>\n",
       "      <td>74000.0</td>\n",
       "      <td>...</td>\n",
       "      <td>0.0</td>\n",
       "      <td>0.0</td>\n",
       "      <td>0.0</td>\n",
       "      <td>239.68</td>\n",
       "      <td>0.0</td>\n",
       "      <td>0</td>\n",
       "      <td>0.0</td>\n",
       "      <td>56802.0</td>\n",
       "      <td>33500.0</td>\n",
       "      <td>0</td>\n",
       "    </tr>\n",
       "    <tr>\n",
       "      <th>201506</th>\n",
       "      <td>12000.0</td>\n",
       "      <td>12000.0</td>\n",
       "      <td>12000.0</td>\n",
       "      <td>1</td>\n",
       "      <td>15.61</td>\n",
       "      <td>289.34</td>\n",
       "      <td>3</td>\n",
       "      <td>2.000000</td>\n",
       "      <td>5</td>\n",
       "      <td>48000.0</td>\n",
       "      <td>...</td>\n",
       "      <td>0.0</td>\n",
       "      <td>0.0</td>\n",
       "      <td>0.0</td>\n",
       "      <td>289.34</td>\n",
       "      <td>0.0</td>\n",
       "      <td>0</td>\n",
       "      <td>0.0</td>\n",
       "      <td>60872.0</td>\n",
       "      <td>20400.0</td>\n",
       "      <td>0</td>\n",
       "    </tr>\n",
       "    <tr>\n",
       "      <th>201506</th>\n",
       "      <td>35000.0</td>\n",
       "      <td>35000.0</td>\n",
       "      <td>35000.0</td>\n",
       "      <td>0</td>\n",
       "      <td>12.29</td>\n",
       "      <td>1167.36</td>\n",
       "      <td>2</td>\n",
       "      <td>3.000000</td>\n",
       "      <td>1</td>\n",
       "      <td>121000.0</td>\n",
       "      <td>...</td>\n",
       "      <td>0.0</td>\n",
       "      <td>0.0</td>\n",
       "      <td>0.0</td>\n",
       "      <td>1167.36</td>\n",
       "      <td>0.0</td>\n",
       "      <td>0</td>\n",
       "      <td>0.0</td>\n",
       "      <td>277104.0</td>\n",
       "      <td>36400.0</td>\n",
       "      <td>0</td>\n",
       "    </tr>\n",
       "    <tr>\n",
       "      <th>201506</th>\n",
       "      <td>27000.0</td>\n",
       "      <td>27000.0</td>\n",
       "      <td>27000.0</td>\n",
       "      <td>1</td>\n",
       "      <td>8.18</td>\n",
       "      <td>549.80</td>\n",
       "      <td>1</td>\n",
       "      <td>10.000000</td>\n",
       "      <td>1</td>\n",
       "      <td>100000.0</td>\n",
       "      <td>...</td>\n",
       "      <td>0.0</td>\n",
       "      <td>0.0</td>\n",
       "      <td>0.0</td>\n",
       "      <td>549.80</td>\n",
       "      <td>0.0</td>\n",
       "      <td>0</td>\n",
       "      <td>0.0</td>\n",
       "      <td>209664.0</td>\n",
       "      <td>46700.0</td>\n",
       "      <td>0</td>\n",
       "    </tr>\n",
       "    <tr>\n",
       "      <th>...</th>\n",
       "      <td>...</td>\n",
       "      <td>...</td>\n",
       "      <td>...</td>\n",
       "      <td>...</td>\n",
       "      <td>...</td>\n",
       "      <td>...</td>\n",
       "      <td>...</td>\n",
       "      <td>...</td>\n",
       "      <td>...</td>\n",
       "      <td>...</td>\n",
       "      <td>...</td>\n",
       "      <td>...</td>\n",
       "      <td>...</td>\n",
       "      <td>...</td>\n",
       "      <td>...</td>\n",
       "      <td>...</td>\n",
       "      <td>...</td>\n",
       "      <td>...</td>\n",
       "      <td>...</td>\n",
       "      <td>...</td>\n",
       "      <td>...</td>\n",
       "    </tr>\n",
       "    <tr>\n",
       "      <th>201512</th>\n",
       "      <td>14400.0</td>\n",
       "      <td>14400.0</td>\n",
       "      <td>14400.0</td>\n",
       "      <td>0</td>\n",
       "      <td>11.99</td>\n",
       "      <td>478.22</td>\n",
       "      <td>2</td>\n",
       "      <td>8.000000</td>\n",
       "      <td>5</td>\n",
       "      <td>57000.0</td>\n",
       "      <td>...</td>\n",
       "      <td>0.0</td>\n",
       "      <td>0.0</td>\n",
       "      <td>0.0</td>\n",
       "      <td>478.22</td>\n",
       "      <td>0.0</td>\n",
       "      <td>0</td>\n",
       "      <td>0.0</td>\n",
       "      <td>35418.0</td>\n",
       "      <td>13000.0</td>\n",
       "      <td>0</td>\n",
       "    </tr>\n",
       "    <tr>\n",
       "      <th>201512</th>\n",
       "      <td>20000.0</td>\n",
       "      <td>20000.0</td>\n",
       "      <td>20000.0</td>\n",
       "      <td>0</td>\n",
       "      <td>5.32</td>\n",
       "      <td>602.30</td>\n",
       "      <td>0</td>\n",
       "      <td>6.102489</td>\n",
       "      <td>1</td>\n",
       "      <td>99000.0</td>\n",
       "      <td>...</td>\n",
       "      <td>0.0</td>\n",
       "      <td>0.0</td>\n",
       "      <td>0.0</td>\n",
       "      <td>602.30</td>\n",
       "      <td>0.0</td>\n",
       "      <td>0</td>\n",
       "      <td>0.0</td>\n",
       "      <td>35828.0</td>\n",
       "      <td>54400.0</td>\n",
       "      <td>0</td>\n",
       "    </tr>\n",
       "    <tr>\n",
       "      <th>201512</th>\n",
       "      <td>12000.0</td>\n",
       "      <td>12000.0</td>\n",
       "      <td>12000.0</td>\n",
       "      <td>1</td>\n",
       "      <td>13.67</td>\n",
       "      <td>277.18</td>\n",
       "      <td>2</td>\n",
       "      <td>9.000000</td>\n",
       "      <td>5</td>\n",
       "      <td>40000.0</td>\n",
       "      <td>...</td>\n",
       "      <td>0.0</td>\n",
       "      <td>0.0</td>\n",
       "      <td>0.0</td>\n",
       "      <td>277.18</td>\n",
       "      <td>0.0</td>\n",
       "      <td>0</td>\n",
       "      <td>0.0</td>\n",
       "      <td>66850.0</td>\n",
       "      <td>21000.0</td>\n",
       "      <td>0</td>\n",
       "    </tr>\n",
       "    <tr>\n",
       "      <th>201512</th>\n",
       "      <td>35000.0</td>\n",
       "      <td>35000.0</td>\n",
       "      <td>35000.0</td>\n",
       "      <td>0</td>\n",
       "      <td>11.22</td>\n",
       "      <td>1149.51</td>\n",
       "      <td>1</td>\n",
       "      <td>2.000000</td>\n",
       "      <td>5</td>\n",
       "      <td>120000.0</td>\n",
       "      <td>...</td>\n",
       "      <td>0.0</td>\n",
       "      <td>0.0</td>\n",
       "      <td>0.0</td>\n",
       "      <td>1149.51</td>\n",
       "      <td>0.0</td>\n",
       "      <td>0</td>\n",
       "      <td>0.0</td>\n",
       "      <td>9224.0</td>\n",
       "      <td>25800.0</td>\n",
       "      <td>0</td>\n",
       "    </tr>\n",
       "    <tr>\n",
       "      <th>201512</th>\n",
       "      <td>34500.0</td>\n",
       "      <td>34500.0</td>\n",
       "      <td>34500.0</td>\n",
       "      <td>1</td>\n",
       "      <td>15.41</td>\n",
       "      <td>828.20</td>\n",
       "      <td>3</td>\n",
       "      <td>2.000000</td>\n",
       "      <td>5</td>\n",
       "      <td>76000.0</td>\n",
       "      <td>...</td>\n",
       "      <td>0.0</td>\n",
       "      <td>0.0</td>\n",
       "      <td>0.0</td>\n",
       "      <td>828.20</td>\n",
       "      <td>0.0</td>\n",
       "      <td>0</td>\n",
       "      <td>0.0</td>\n",
       "      <td>47896.0</td>\n",
       "      <td>59900.0</td>\n",
       "      <td>0</td>\n",
       "    </tr>\n",
       "  </tbody>\n",
       "</table>\n",
       "<p>256991 rows × 38 columns</p>\n",
       "</div>"
      ],
      "text/plain": [
       "            loan_amnt  funded_amnt  funded_amnt_inv  term  int_rate  \\\n",
       "issue_date                                                            \n",
       "201506        35000.0      35000.0          35000.0     0      9.17   \n",
       "201506        11500.0      11500.0          11475.0     1      9.17   \n",
       "201506        12000.0      12000.0          12000.0     1     15.61   \n",
       "201506        35000.0      35000.0          35000.0     0     12.29   \n",
       "201506        27000.0      27000.0          27000.0     1      8.18   \n",
       "...               ...          ...              ...   ...       ...   \n",
       "201512        14400.0      14400.0          14400.0     0     11.99   \n",
       "201512        20000.0      20000.0          20000.0     0      5.32   \n",
       "201512        12000.0      12000.0          12000.0     1     13.67   \n",
       "201512        35000.0      35000.0          35000.0     0     11.22   \n",
       "201512        34500.0      34500.0          34500.0     1     15.41   \n",
       "\n",
       "            installment  grade  emp_length  home_ownership  annual_inc  ...  \\\n",
       "issue_date                                                              ...   \n",
       "201506          1115.77      1    1.000000               1    130000.0  ...   \n",
       "201506           239.68      1   10.000000               5     74000.0  ...   \n",
       "201506           289.34      3    2.000000               5     48000.0  ...   \n",
       "201506          1167.36      2    3.000000               1    121000.0  ...   \n",
       "201506           549.80      1   10.000000               1    100000.0  ...   \n",
       "...                 ...    ...         ...             ...         ...  ...   \n",
       "201512           478.22      2    8.000000               5     57000.0  ...   \n",
       "201512           602.30      0    6.102489               1     99000.0  ...   \n",
       "201512           277.18      2    9.000000               5     40000.0  ...   \n",
       "201512          1149.51      1    2.000000               5    120000.0  ...   \n",
       "201512           828.20      3    2.000000               5     76000.0  ...   \n",
       "\n",
       "            total_rec_late_fee  recoveries  collection_recovery_fee  \\\n",
       "issue_date                                                            \n",
       "201506                     0.0         0.0                      0.0   \n",
       "201506                     0.0         0.0                      0.0   \n",
       "201506                     0.0         0.0                      0.0   \n",
       "201506                     0.0         0.0                      0.0   \n",
       "201506                     0.0         0.0                      0.0   \n",
       "...                        ...         ...                      ...   \n",
       "201512                     0.0         0.0                      0.0   \n",
       "201512                     0.0         0.0                      0.0   \n",
       "201512                     0.0         0.0                      0.0   \n",
       "201512                     0.0         0.0                      0.0   \n",
       "201512                     0.0         0.0                      0.0   \n",
       "\n",
       "            last_pymnt_amnt  collections_12_mths_ex_med  application_type  \\\n",
       "issue_date                                                                  \n",
       "201506              1115.77                         0.0                 0   \n",
       "201506               239.68                         0.0                 0   \n",
       "201506               289.34                         0.0                 0   \n",
       "201506              1167.36                         0.0                 0   \n",
       "201506               549.80                         0.0                 0   \n",
       "...                     ...                         ...               ...   \n",
       "201512               478.22                         0.0                 0   \n",
       "201512               602.30                         0.0                 0   \n",
       "201512               277.18                         0.0                 0   \n",
       "201512              1149.51                         0.0                 0   \n",
       "201512               828.20                         0.0                 0   \n",
       "\n",
       "            tot_coll_amt  tot_cur_bal  total_rev_hi_lim  default_ind  \n",
       "issue_date                                                            \n",
       "201506               0.0     227294.0           70500.0            0  \n",
       "201506               0.0      56802.0           33500.0            0  \n",
       "201506               0.0      60872.0           20400.0            0  \n",
       "201506               0.0     277104.0           36400.0            0  \n",
       "201506               0.0     209664.0           46700.0            0  \n",
       "...                  ...          ...               ...          ...  \n",
       "201512               0.0      35418.0           13000.0            0  \n",
       "201512               0.0      35828.0           54400.0            0  \n",
       "201512               0.0      66850.0           21000.0            0  \n",
       "201512               0.0       9224.0           25800.0            0  \n",
       "201512               0.0      47896.0           59900.0            0  \n",
       "\n",
       "[256991 rows x 38 columns]"
      ]
     },
     "execution_count": 74,
     "metadata": {},
     "output_type": "execute_result"
    }
   ],
   "source": [
    "#define the X test data\n",
    "X_test = test_set.copy()\n",
    "X_test"
   ]
  },
  {
   "cell_type": "code",
   "execution_count": 75,
   "id": "coastal-installation",
   "metadata": {},
   "outputs": [],
   "source": [
    "#remove the default ind column\n",
    "X_test.drop(['default_ind'], axis=1, inplace=True)"
   ]
  },
  {
   "cell_type": "code",
   "execution_count": 76,
   "id": "secondary-wrong",
   "metadata": {},
   "outputs": [],
   "source": [
    "Y_train = train_set['default_ind']"
   ]
  },
  {
   "cell_type": "code",
   "execution_count": 77,
   "id": "dominican-matrix",
   "metadata": {},
   "outputs": [
    {
     "data": {
      "text/plain": [
       "issue_date\n",
       "201506    0\n",
       "201506    0\n",
       "201506    0\n",
       "201506    0\n",
       "201506    0\n",
       "         ..\n",
       "201512    0\n",
       "201512    0\n",
       "201512    0\n",
       "201512    0\n",
       "201512    0\n",
       "Name: default_ind, Length: 256991, dtype: int64"
      ]
     },
     "execution_count": 77,
     "metadata": {},
     "output_type": "execute_result"
    }
   ],
   "source": [
    "Y_test = test_set['default_ind']\n",
    "Y_test"
   ]
  },
  {
   "cell_type": "markdown",
   "id": "delayed-arbitration",
   "metadata": {},
   "source": [
    "# Data Scaling"
   ]
  },
  {
   "cell_type": "code",
   "execution_count": 78,
   "id": "reserved-joyce",
   "metadata": {},
   "outputs": [],
   "source": [
    "#before building the modelS scale the train and test data using standard scaler\n",
    "from sklearn.preprocessing import StandardScaler\n",
    "sc = StandardScaler().fit(X_train)\n",
    "#scale the train data\n",
    "X_train = sc.transform(X_train)\n",
    "#scale the test data\n",
    "X_test = sc.transform(X_test)"
   ]
  },
  {
   "cell_type": "code",
   "execution_count": null,
   "id": "combined-watson",
   "metadata": {},
   "outputs": [],
   "source": [
    "#we are dealing with imbalanced data as the the default indicator variable is imabalanced\n",
    "#It can lead to bias in the prediction results\n",
    "#pip install imblearn to use the SMOTE function to balance the data"
   ]
  },
  {
   "cell_type": "markdown",
   "id": "promotional-wisdom",
   "metadata": {},
   "source": [
    "# Balancing the training set using SMOTE"
   ]
  },
  {
   "cell_type": "code",
   "execution_count": 79,
   "id": "specialized-report",
   "metadata": {},
   "outputs": [],
   "source": [
    "#import the relevant libraries to balance the data\n",
    "from imblearn.over_sampling import SMOTE"
   ]
  },
  {
   "cell_type": "code",
   "execution_count": 80,
   "id": "three-solid",
   "metadata": {},
   "outputs": [],
   "source": [
    "#define the smote function which is used to resample the data so it balances the data\n",
    "sm = SMOTE()\n",
    "X_train, Y_train = sm.fit_resample(X_train, Y_train)"
   ]
  },
  {
   "cell_type": "markdown",
   "id": "amber-georgia",
   "metadata": {},
   "source": [
    "# Model Building"
   ]
  },
  {
   "cell_type": "markdown",
   "id": "civil-vacuum",
   "metadata": {},
   "source": [
    "# 1. Logistic Regression"
   ]
  },
  {
   "cell_type": "code",
   "execution_count": 81,
   "id": "challenging-surrey",
   "metadata": {},
   "outputs": [],
   "source": [
    "#Building the models\n",
    "#import the necessary libraries\n",
    "\n",
    "from sklearn.linear_model import LogisticRegression"
   ]
  },
  {
   "cell_type": "code",
   "execution_count": 82,
   "id": "threatened-prior",
   "metadata": {},
   "outputs": [],
   "source": [
    "logreg = LogisticRegression()"
   ]
  },
  {
   "cell_type": "code",
   "execution_count": 83,
   "id": "finished-pickup",
   "metadata": {},
   "outputs": [
    {
     "name": "stderr",
     "output_type": "stream",
     "text": [
      "c:\\users\\caroline sanjana\\appdata\\local\\programs\\python\\python36\\lib\\site-packages\\sklearn\\linear_model\\_logistic.py:765: ConvergenceWarning: lbfgs failed to converge (status=1):\n",
      "STOP: TOTAL NO. of ITERATIONS REACHED LIMIT.\n",
      "\n",
      "Increase the number of iterations (max_iter) or scale the data as shown in:\n",
      "    https://scikit-learn.org/stable/modules/preprocessing.html\n",
      "Please also refer to the documentation for alternative solver options:\n",
      "    https://scikit-learn.org/stable/modules/linear_model.html#logistic-regression\n",
      "  extra_warning_msg=_LOGISTIC_SOLVER_CONVERGENCE_MSG)\n"
     ]
    },
    {
     "data": {
      "text/plain": [
       "LogisticRegression()"
      ]
     },
     "execution_count": 83,
     "metadata": {},
     "output_type": "execute_result"
    }
   ],
   "source": [
    "#fit the model\n",
    "logreg.fit(X_train, Y_train)"
   ]
  },
  {
   "cell_type": "code",
   "execution_count": 84,
   "id": "tender-dimension",
   "metadata": {},
   "outputs": [],
   "source": [
    "#predict the values\n",
    "Y_pred = logreg.predict(X_test)"
   ]
  },
  {
   "cell_type": "code",
   "execution_count": 85,
   "id": "single-upset",
   "metadata": {},
   "outputs": [
    {
     "data": {
      "text/plain": [
       "array([0, 0, 0, ..., 0, 0, 0], dtype=int64)"
      ]
     },
     "execution_count": 85,
     "metadata": {},
     "output_type": "execute_result"
    }
   ],
   "source": [
    "Y_pred"
   ]
  },
  {
   "cell_type": "markdown",
   "id": "cognitive-camcorder",
   "metadata": {},
   "source": [
    "# Model Evaluation"
   ]
  },
  {
   "cell_type": "code",
   "execution_count": 86,
   "id": "taken-drawing",
   "metadata": {},
   "outputs": [],
   "source": [
    "#Evaluating the model and testing\n",
    "#import the module for metrics\n",
    "from sklearn import metrics"
   ]
  },
  {
   "cell_type": "code",
   "execution_count": 87,
   "id": "functioning-shannon",
   "metadata": {},
   "outputs": [
    {
     "data": {
      "text/plain": [
       "array([[255885,    795],\n",
       "       [    62,    249]], dtype=int64)"
      ]
     },
     "execution_count": 87,
     "metadata": {},
     "output_type": "execute_result"
    }
   ],
   "source": [
    "#Evaluating the model using Confusion matrix\n",
    "\n",
    "confusion_matrix = metrics.confusion_matrix(Y_test, Y_pred)\n",
    "confusion_matrix"
   ]
  },
  {
   "cell_type": "code",
   "execution_count": 88,
   "id": "equivalent-romantic",
   "metadata": {},
   "outputs": [
    {
     "data": {
      "text/plain": [
       "Text(0.5, 1.0, 'Confusion Matrix')"
      ]
     },
     "execution_count": 88,
     "metadata": {},
     "output_type": "execute_result"
    },
    {
     "data": {
      "image/png": "[encoded data removed]",
      "text/plain": [
       "<Figure size 432x288 with 2 Axes>"
      ]
     },
     "metadata": {
      "needs_background": "light"
     },
     "output_type": "display_data"
    }
   ],
   "source": [
    "#visulizaing the confusion matrix using a heatmap\n",
    "\n",
    "classes = ['Non-Default: 0', 'Default: 1']\n",
    "fig, ax = plt.subplots()\n",
    "ticks = np.arange(len(classes))\n",
    "plt.xticks(ticks, classes)\n",
    "plt.yticks(ticks, classes)\n",
    "\n",
    "#plot a heatmap\n",
    "sns.heatmap(pd.DataFrame(confusion_matrix), annot=True, cmap=\"Greens\", fmt='g')\n",
    "plt.xlabel('Predicted Value')\n",
    "plt.ylabel('Actual Value')\n",
    "plt.title('Confusion Matrix')"
   ]
  },
  {
   "cell_type": "code",
   "execution_count": 89,
   "id": "native-nursing",
   "metadata": {},
   "outputs": [
    {
     "name": "stdout",
     "output_type": "stream",
     "text": [
      "Accuracy 0.9966652528687775\n",
      "Precision 0.23850574712643677\n",
      "Recall 0.8006430868167203\n"
     ]
    }
   ],
   "source": [
    "#Evaluation of the model using metrics \n",
    "\n",
    "print(\"Accuracy\",metrics.accuracy_score(Y_test, Y_pred))\n",
    "print(\"Precision\",metrics.precision_score(Y_test, Y_pred))\n",
    "print(\"Recall\",metrics.recall_score(Y_test, Y_pred))"
   ]
  },
  {
   "cell_type": "code",
   "execution_count": 90,
   "id": "wooden-kinase",
   "metadata": {},
   "outputs": [],
   "source": [
    "#plot the ROC curve \n",
    "#import the necessary libraries\n",
    "from sklearn.metrics import roc_curve\n",
    "from sklearn.metrics import roc_auc_score"
   ]
  },
  {
   "cell_type": "code",
   "execution_count": 92,
   "id": "higher-amazon",
   "metadata": {},
   "outputs": [
    {
     "name": "stdout",
     "output_type": "stream",
     "text": [
      "0.9408078897141687\n"
     ]
    },
    {
     "data": {
      "image/png": "[encoded data removed]",
      "text/plain": [
       "<Figure size 432x288 with 1 Axes>"
      ]
     },
     "metadata": {
      "needs_background": "light"
     },
     "output_type": "display_data"
    }
   ],
   "source": [
    "#plot the ROC curve\n",
    "Y_pred_prob = logreg.predict_proba(X_test)[:,1]\n",
    "fpr, tpr, threshold1 = roc_curve(Y_test, Y_pred_prob)\n",
    "plt.plot([0,1], [0,1])\n",
    "plt.plot(fpr, tpr, linestyle = '--', label = 'Logistic Regression')\n",
    "plt.xlabel('FPR')\n",
    "plt.ylabel('TPR')\n",
    "plt.title('ROC - Logistic Regression')\n",
    "#print the auc score\n",
    "auc_score = roc_auc_score(Y_test, Y_pred_prob)\n",
    "print(auc_score)"
   ]
  },
  {
   "cell_type": "markdown",
   "id": "taken-genetics",
   "metadata": {},
   "source": [
    "# K-fold Cross Validation"
   ]
  },
  {
   "cell_type": "code",
   "execution_count": 93,
   "id": "senior-routine",
   "metadata": {},
   "outputs": [
    {
     "name": "stderr",
     "output_type": "stream",
     "text": [
      "c:\\users\\caroline sanjana\\appdata\\local\\programs\\python\\python36\\lib\\site-packages\\sklearn\\linear_model\\_logistic.py:765: ConvergenceWarning: lbfgs failed to converge (status=1):\n",
      "STOP: TOTAL NO. of ITERATIONS REACHED LIMIT.\n",
      "\n",
      "Increase the number of iterations (max_iter) or scale the data as shown in:\n",
      "    https://scikit-learn.org/stable/modules/preprocessing.html\n",
      "Please also refer to the documentation for alternative solver options:\n",
      "    https://scikit-learn.org/stable/modules/linear_model.html#logistic-regression\n",
      "  extra_warning_msg=_LOGISTIC_SOLVER_CONVERGENCE_MSG)\n",
      "c:\\users\\caroline sanjana\\appdata\\local\\programs\\python\\python36\\lib\\site-packages\\sklearn\\linear_model\\_logistic.py:765: ConvergenceWarning: lbfgs failed to converge (status=1):\n",
      "STOP: TOTAL NO. of ITERATIONS REACHED LIMIT.\n",
      "\n",
      "Increase the number of iterations (max_iter) or scale the data as shown in:\n",
      "    https://scikit-learn.org/stable/modules/preprocessing.html\n",
      "Please also refer to the documentation for alternative solver options:\n",
      "    https://scikit-learn.org/stable/modules/linear_model.html#logistic-regression\n",
      "  extra_warning_msg=_LOGISTIC_SOLVER_CONVERGENCE_MSG)\n",
      "c:\\users\\caroline sanjana\\appdata\\local\\programs\\python\\python36\\lib\\site-packages\\sklearn\\linear_model\\_logistic.py:765: ConvergenceWarning: lbfgs failed to converge (status=1):\n",
      "STOP: TOTAL NO. of ITERATIONS REACHED LIMIT.\n",
      "\n",
      "Increase the number of iterations (max_iter) or scale the data as shown in:\n",
      "    https://scikit-learn.org/stable/modules/preprocessing.html\n",
      "Please also refer to the documentation for alternative solver options:\n",
      "    https://scikit-learn.org/stable/modules/linear_model.html#logistic-regression\n",
      "  extra_warning_msg=_LOGISTIC_SOLVER_CONVERGENCE_MSG)\n",
      "c:\\users\\caroline sanjana\\appdata\\local\\programs\\python\\python36\\lib\\site-packages\\sklearn\\linear_model\\_logistic.py:765: ConvergenceWarning: lbfgs failed to converge (status=1):\n",
      "STOP: TOTAL NO. of ITERATIONS REACHED LIMIT.\n",
      "\n",
      "Increase the number of iterations (max_iter) or scale the data as shown in:\n",
      "    https://scikit-learn.org/stable/modules/preprocessing.html\n",
      "Please also refer to the documentation for alternative solver options:\n",
      "    https://scikit-learn.org/stable/modules/linear_model.html#logistic-regression\n",
      "  extra_warning_msg=_LOGISTIC_SOLVER_CONVERGENCE_MSG)\n"
     ]
    },
    {
     "name": "stdout",
     "output_type": "stream",
     "text": [
      "Scores: [0.98073975 0.99106404 0.99103238 0.99084245 0.98658695]\n",
      "Mean: 0.9880531152286259\n",
      "Standard Deviation: 0.00403378340521156\n"
     ]
    },
    {
     "name": "stderr",
     "output_type": "stream",
     "text": [
      "c:\\users\\caroline sanjana\\appdata\\local\\programs\\python\\python36\\lib\\site-packages\\sklearn\\linear_model\\_logistic.py:765: ConvergenceWarning: lbfgs failed to converge (status=1):\n",
      "STOP: TOTAL NO. of ITERATIONS REACHED LIMIT.\n",
      "\n",
      "Increase the number of iterations (max_iter) or scale the data as shown in:\n",
      "    https://scikit-learn.org/stable/modules/preprocessing.html\n",
      "Please also refer to the documentation for alternative solver options:\n",
      "    https://scikit-learn.org/stable/modules/linear_model.html#logistic-regression\n",
      "  extra_warning_msg=_LOGISTIC_SOLVER_CONVERGENCE_MSG)\n"
     ]
    }
   ],
   "source": [
    "#perform K-fold cross validation technique evaluate the model and calculate the scores\n",
    "#using 5 data points and also calculate the mean and std of the model\n",
    "from sklearn.model_selection import cross_val_score\n",
    "logreg = LogisticRegression()\n",
    "scores = cross_val_score(logreg, X_train, Y_train, cv=5, scoring = \"accuracy\")\n",
    "print(\"Scores:\", scores)\n",
    "print(\"Mean:\", scores.mean())\n",
    "print(\"Standard Deviation:\", scores.std())"
   ]
  },
  {
   "cell_type": "markdown",
   "id": "abroad-tomato",
   "metadata": {},
   "source": [
    "# 2. Decision Tree"
   ]
  },
  {
   "cell_type": "code",
   "execution_count": 94,
   "id": "pleased-equality",
   "metadata": {},
   "outputs": [],
   "source": [
    "#import the decision tree classifier\n",
    "from sklearn.tree import DecisionTreeClassifier\n",
    "# build and fit the model\n",
    "dectree = DecisionTreeClassifier(criterion = 'entropy', random_state=0)\n",
    "dectree = dectree.fit(X_train,Y_train)"
   ]
  },
  {
   "cell_type": "code",
   "execution_count": 95,
   "id": "neither-grave",
   "metadata": {},
   "outputs": [],
   "source": [
    "#predict the values\n",
    "Y_pred = dectree.predict(X_test)"
   ]
  },
  {
   "cell_type": "code",
   "execution_count": 96,
   "id": "accompanied-tourism",
   "metadata": {},
   "outputs": [
    {
     "data": {
      "text/plain": [
       "array([0, 1, 0, ..., 1, 1, 1], dtype=int64)"
      ]
     },
     "execution_count": 96,
     "metadata": {},
     "output_type": "execute_result"
    }
   ],
   "source": [
    "Y_pred"
   ]
  },
  {
   "cell_type": "markdown",
   "id": "registered-shield",
   "metadata": {},
   "source": [
    "# Model Evaluation"
   ]
  },
  {
   "cell_type": "code",
   "execution_count": 97,
   "id": "french-delay",
   "metadata": {},
   "outputs": [
    {
     "data": {
      "text/plain": [
       "array([[148769, 107911],\n",
       "       [    15,    296]], dtype=int64)"
      ]
     },
     "execution_count": 97,
     "metadata": {},
     "output_type": "execute_result"
    }
   ],
   "source": [
    "#Evaluating the model using Confusion matrix\n",
    "\n",
    "confusion_matrix = metrics.confusion_matrix(Y_test, Y_pred)\n",
    "confusion_matrix"
   ]
  },
  {
   "cell_type": "code",
   "execution_count": 98,
   "id": "happy-distinction",
   "metadata": {},
   "outputs": [
    {
     "data": {
      "text/plain": [
       "Text(0.5, 1.0, 'Confusion Matrix')"
      ]
     },
     "execution_count": 98,
     "metadata": {},
     "output_type": "execute_result"
    },
    {
     "data": {
      "image/png": "[encoded data removed]",
      "text/plain": [
       "<Figure size 432x288 with 2 Axes>"
      ]
     },
     "metadata": {
      "needs_background": "light"
     },
     "output_type": "display_data"
    }
   ],
   "source": [
    "#visulizaing the confusion matrix using a heatmap\n",
    "\n",
    "classes = ['Non-Default: 0', 'Default: 1']\n",
    "fig, ax = plt.subplots()\n",
    "ticks = np.arange(len(classes))\n",
    "plt.xticks(ticks, classes)\n",
    "plt.yticks(ticks, classes)\n",
    "\n",
    "#plot a heatmap\n",
    "sns.heatmap(pd.DataFrame(confusion_matrix), annot=True, cmap=\"Greens\", fmt='g')\n",
    "plt.xlabel('Predicted Value')\n",
    "plt.ylabel('Actual Value')\n",
    "plt.title('Confusion Matrix')"
   ]
  },
  {
   "cell_type": "code",
   "execution_count": 99,
   "id": "scheduled-forty",
   "metadata": {},
   "outputs": [
    {
     "name": "stdout",
     "output_type": "stream",
     "text": [
      "Accuracy 0.5800397679296162\n",
      "Precision 0.0027354977034757455\n",
      "Recall 0.9517684887459807\n"
     ]
    }
   ],
   "source": [
    "#Evaluation of the model using metrics \n",
    "\n",
    "print(\"Accuracy\",metrics.accuracy_score(Y_test, Y_pred))\n",
    "print(\"Precision\",metrics.precision_score(Y_test, Y_pred))\n",
    "print(\"Recall\",metrics.recall_score(Y_test, Y_pred))"
   ]
  },
  {
   "cell_type": "code",
   "execution_count": 100,
   "id": "collect-distributor",
   "metadata": {},
   "outputs": [
    {
     "name": "stdout",
     "output_type": "stream",
     "text": [
      "0.7656789303633286\n"
     ]
    },
    {
     "data": {
      "image/png": "[encoded data removed]",
      "text/plain": [
       "<Figure size 432x288 with 1 Axes>"
      ]
     },
     "metadata": {
      "needs_background": "light"
     },
     "output_type": "display_data"
    }
   ],
   "source": [
    "#plot the roc curve\n",
    "Y_pred_prob = dectree.predict_proba(X_test)[:,1]\n",
    "fpr, tpr, threshold = roc_curve(Y_test, Y_pred_prob)\n",
    "plt.plot([0,1], [0,1])\n",
    "plt.plot(fpr, tpr, linestyle = '--', label = 'Decision Tree')\n",
    "plt.xlabel('FPR')\n",
    "plt.ylabel('TPR')\n",
    "plt.title('ROC - Decision Tree')\n",
    "#print the auc score\n",
    "auc_score = roc_auc_score(Y_test, Y_pred_prob)\n",
    "print(auc_score)"
   ]
  },
  {
   "cell_type": "markdown",
   "id": "suitable-associate",
   "metadata": {},
   "source": [
    "# 3. Naive Bayes"
   ]
  },
  {
   "cell_type": "code",
   "execution_count": 101,
   "id": "wanted-contemporary",
   "metadata": {},
   "outputs": [],
   "source": [
    "#3. Naive Bayes\n",
    "#import the relevant modules\n",
    "from sklearn.naive_bayes import GaussianNB"
   ]
  },
  {
   "cell_type": "code",
   "execution_count": 102,
   "id": "prepared-sierra",
   "metadata": {},
   "outputs": [],
   "source": [
    "#build the model\n",
    "naivebay = GaussianNB()\n",
    "\n",
    "#fit the model\n",
    "naivebay = naivebay.fit(X_train, Y_train)"
   ]
  },
  {
   "cell_type": "code",
   "execution_count": 103,
   "id": "grave-category",
   "metadata": {},
   "outputs": [
    {
     "data": {
      "text/plain": [
       "array([0, 0, 0, ..., 0, 0, 0], dtype=int64)"
      ]
     },
     "execution_count": 103,
     "metadata": {},
     "output_type": "execute_result"
    }
   ],
   "source": [
    "#predict using test data\n",
    "\n",
    "Y_pred = naivebay.predict(X_test)\n",
    "Y_pred"
   ]
  },
  {
   "cell_type": "markdown",
   "id": "gentle-fruit",
   "metadata": {},
   "source": [
    "# Model Evaluation"
   ]
  },
  {
   "cell_type": "code",
   "execution_count": 104,
   "id": "unknown-gilbert",
   "metadata": {},
   "outputs": [
    {
     "data": {
      "text/plain": [
       "array([[256103,    577],\n",
       "       [   233,     78]], dtype=int64)"
      ]
     },
     "execution_count": 104,
     "metadata": {},
     "output_type": "execute_result"
    }
   ],
   "source": [
    "#Evaluating the model using Confusion matrix\n",
    "\n",
    "confusion_matrix = metrics.confusion_matrix(Y_test, Y_pred)\n",
    "confusion_matrix"
   ]
  },
  {
   "cell_type": "code",
   "execution_count": 105,
   "id": "different-stretch",
   "metadata": {},
   "outputs": [
    {
     "data": {
      "text/plain": [
       "Text(0.5, 1.0, 'Confusion Matrix')"
      ]
     },
     "execution_count": 105,
     "metadata": {},
     "output_type": "execute_result"
    },
    {
     "data": {
      "image/png": "[encoded data removed]",
      "text/plain": [
       "<Figure size 432x288 with 2 Axes>"
      ]
     },
     "metadata": {
      "needs_background": "light"
     },
     "output_type": "display_data"
    }
   ],
   "source": [
    "#visulizaing the confusion matrix using a heatmap\n",
    "\n",
    "classes = ['Non-Default: 0', 'Default: 1']\n",
    "fig, ax = plt.subplots()\n",
    "ticks = np.arange(len(classes))\n",
    "plt.xticks(ticks, classes)\n",
    "plt.yticks(ticks, classes)\n",
    "\n",
    "#plot a heatmap\n",
    "sns.heatmap(pd.DataFrame(confusion_matrix), annot=True, cmap=\"Blues\", fmt='g')\n",
    "plt.xlabel('Predicted Value')\n",
    "plt.ylabel('Actual Value')\n",
    "plt.title('Confusion Matrix')"
   ]
  },
  {
   "cell_type": "code",
   "execution_count": 106,
   "id": "advisory-berry",
   "metadata": {},
   "outputs": [
    {
     "name": "stdout",
     "output_type": "stream",
     "text": [
      "Accuracy 0.9968481386507698\n",
      "Precision 0.11908396946564885\n",
      "Recall 0.2508038585209003\n"
     ]
    }
   ],
   "source": [
    "#Evaluating the model using the metrics\n",
    "\n",
    "print(\"Accuracy\",metrics.accuracy_score(Y_test, Y_pred))\n",
    "print(\"Precision\",metrics.precision_score(Y_test, Y_pred))\n",
    "print(\"Recall\",metrics.recall_score(Y_test, Y_pred))"
   ]
  },
  {
   "cell_type": "code",
   "execution_count": 108,
   "id": "pressed-observation",
   "metadata": {},
   "outputs": [
    {
     "name": "stdout",
     "output_type": "stream",
     "text": [
      "0.8618735678490664\n"
     ]
    },
    {
     "data": {
      "image/png": "[encoded data removed]",
      "text/plain": [
       "<Figure size 432x288 with 1 Axes>"
      ]
     },
     "metadata": {
      "needs_background": "light"
     },
     "output_type": "display_data"
    }
   ],
   "source": [
    "#plot the roc curve\n",
    "Y_pred_prob = naivebay.predict_proba(X_test)[:,1]\n",
    "fpr, tpr, threshold = roc_curve(Y_test, Y_pred_prob)\n",
    "plt.plot([0,1], [0,1])\n",
    "plt.plot(fpr, tpr, linestyle = '--', label = 'Naive Bayes')\n",
    "plt.xlabel('FPR')\n",
    "plt.ylabel('TPR')\n",
    "plt.title('ROC - Naive Bayes')\n",
    "#print the auc score\n",
    "auc_score = roc_auc_score(Y_test, Y_pred_prob)\n",
    "print(auc_score)"
   ]
  },
  {
   "cell_type": "markdown",
   "id": "judicial-conversation",
   "metadata": {},
   "source": [
    "# 4. ANN (Artificial Neural Network)"
   ]
  },
  {
   "cell_type": "code",
   "execution_count": 109,
   "id": "hazardous-duplicate",
   "metadata": {},
   "outputs": [],
   "source": [
    "#ANN model using keras\n",
    "#import the libraries\n",
    "import tensorflow as tf\n",
    "import keras\n",
    "from keras.models import Sequential\n",
    "from keras.layers import Dense"
   ]
  },
  {
   "cell_type": "code",
   "execution_count": 110,
   "id": "criminal-coral",
   "metadata": {},
   "outputs": [],
   "source": [
    "# Define the scaler \n",
    "scaler = StandardScaler().fit(X_train)\n",
    "\n",
    "# Scale the train set\n",
    "X_train = scaler.transform(X_train)\n",
    "\n",
    "# Scale the test set\n",
    "X_test = scaler.transform(X_test)"
   ]
  },
  {
   "cell_type": "code",
   "execution_count": 111,
   "id": "amazing-obligation",
   "metadata": {},
   "outputs": [],
   "source": [
    "#build the ANN model\n",
    "model = Sequential()\n",
    "\n",
    "#add an input layer and hidden layer\n",
    "model.add(Dense(units = 20, activation = 'relu'))\n",
    "#add the next hidden layer\n",
    "model.add(Dense(units = 15, activation = 'relu'))\n",
    "\n",
    "#add the last dense layer\n",
    "model.add(Dense(units = 10, activation = 'relu'))\n",
    "\n",
    "#now that there are 3 hidden layers we can add the output layer\n",
    "model.add(Dense(units = 1, activation = 'sigmoid'))\n",
    "\n"
   ]
  },
  {
   "cell_type": "code",
   "execution_count": 112,
   "id": "inappropriate-horse",
   "metadata": {},
   "outputs": [
    {
     "name": "stdout",
     "output_type": "stream",
     "text": [
      "Epoch 1/10\n",
      "34552/34552 [==============================] - 33s 945us/step - loss: 0.0434 - accuracy: 0.9878\n",
      "Epoch 2/10\n",
      "34552/34552 [==============================] - 32s 929us/step - loss: 0.0330 - accuracy: 0.9913\n",
      "Epoch 3/10\n",
      "34552/34552 [==============================] - 32s 931us/step - loss: 0.0307 - accuracy: 0.9919\n",
      "Epoch 4/10\n",
      "34552/34552 [==============================] - 32s 917us/step - loss: 0.0292 - accuracy: 0.9923\n",
      "Epoch 5/10\n",
      "34552/34552 [==============================] - 31s 900us/step - loss: 0.0284 - accuracy: 0.9926\n",
      "Epoch 6/10\n",
      "34552/34552 [==============================] - 31s 911us/step - loss: 0.0276 - accuracy: 0.9928\n",
      "Epoch 7/10\n",
      "34552/34552 [==============================] - 31s 906us/step - loss: 0.0270 - accuracy: 0.9930\n",
      "Epoch 8/10\n",
      "34552/34552 [==============================] - 31s 901us/step - loss: 0.0265 - accuracy: 0.9931\n",
      "Epoch 9/10\n",
      "34552/34552 [==============================] - 31s 898us/step - loss: 0.0261 - accuracy: 0.9932\n",
      "Epoch 10/10\n",
      "34552/34552 [==============================] - 31s 908us/step - loss: 0.0258 - accuracy: 0.9932\n"
     ]
    },
    {
     "data": {
      "text/plain": [
       "<keras.callbacks.History at 0x12e45a69c88>"
      ]
     },
     "execution_count": 112,
     "metadata": {},
     "output_type": "execute_result"
    }
   ],
   "source": [
    "#compile the model\n",
    "\n",
    "model.compile(loss = 'binary_crossentropy', optimizer = 'adam', metrics = ['accuracy'])\n",
    "\n",
    "#fit the model\n",
    "              \n",
    "model.fit(X_train, Y_train, batch_size = 32, epochs = 10)\n"
   ]
  },
  {
   "cell_type": "code",
   "execution_count": 113,
   "id": "demanding-player",
   "metadata": {},
   "outputs": [],
   "source": [
    "#predict the test results \n",
    "Y_pred = model.predict(X_test)"
   ]
  },
  {
   "cell_type": "code",
   "execution_count": 114,
   "id": "norwegian-extreme",
   "metadata": {},
   "outputs": [
    {
     "data": {
      "text/plain": [
       "array([[0.00237632],\n",
       "       [0.01042226],\n",
       "       [0.29914916],\n",
       "       ...,\n",
       "       [1.        ],\n",
       "       [1.        ],\n",
       "       [1.        ]], dtype=float32)"
      ]
     },
     "execution_count": 114,
     "metadata": {},
     "output_type": "execute_result"
    }
   ],
   "source": [
    "Y_pred"
   ]
  },
  {
   "cell_type": "code",
   "execution_count": 115,
   "id": "introductory-sessions",
   "metadata": {},
   "outputs": [
    {
     "data": {
      "text/plain": [
       "array([[False],\n",
       "       [False],\n",
       "       [False],\n",
       "       ...,\n",
       "       [ True],\n",
       "       [ True],\n",
       "       [ True]])"
      ]
     },
     "execution_count": 115,
     "metadata": {},
     "output_type": "execute_result"
    }
   ],
   "source": [
    "#to check the accuarcy\n",
    "#comparing y_pred and y_test\n",
    "Y_pred = (Y_pred >0.5)\n",
    "Y_pred"
   ]
  },
  {
   "cell_type": "markdown",
   "id": "reliable-pavilion",
   "metadata": {},
   "source": [
    "# Model Evaluation"
   ]
  },
  {
   "cell_type": "code",
   "execution_count": 116,
   "id": "primary-nitrogen",
   "metadata": {},
   "outputs": [
    {
     "name": "stdout",
     "output_type": "stream",
     "text": [
      "8031/8031 [==============================] - 6s 748us/step - loss: 12.3090 - accuracy: 0.3484\n",
      "[12.30898666381836, 0.3484013080596924]\n"
     ]
    }
   ],
   "source": [
    "#Evaluate the model by calculating the score\n",
    "\n",
    "Score = model.evaluate(X_test, Y_test)\n",
    "print(Score)"
   ]
  },
  {
   "cell_type": "code",
   "execution_count": 117,
   "id": "compressed-involvement",
   "metadata": {},
   "outputs": [
    {
     "data": {
      "text/plain": [
       "array([[ 89231, 167449],\n",
       "       [     6,    305]], dtype=int64)"
      ]
     },
     "execution_count": 117,
     "metadata": {},
     "output_type": "execute_result"
    }
   ],
   "source": [
    "#Evaluating the model using Confusion matrix\n",
    "\n",
    "confusion_matrix = metrics.confusion_matrix(Y_test, Y_pred)\n",
    "confusion_matrix"
   ]
  },
  {
   "cell_type": "code",
   "execution_count": 118,
   "id": "nasty-monster",
   "metadata": {},
   "outputs": [
    {
     "data": {
      "text/plain": [
       "Text(0.5, 1.0, 'Confusion Matrix')"
      ]
     },
     "execution_count": 118,
     "metadata": {},
     "output_type": "execute_result"
    },
    {
     "data": {
      "image/png": "[encoded data removed]",
      "text/plain": [
       "<Figure size 432x288 with 2 Axes>"
      ]
     },
     "metadata": {
      "needs_background": "light"
     },
     "output_type": "display_data"
    }
   ],
   "source": [
    "#visulizaing the confusion matrix using a heatmap\n",
    "\n",
    "classes = ['Non-Default: 0', 'Default: 1']\n",
    "fig, ax = plt.subplots()\n",
    "ticks = np.arange(len(classes))\n",
    "plt.xticks(ticks, classes)\n",
    "plt.yticks(ticks, classes)\n",
    "\n",
    "#plot a heatmap\n",
    "sns.heatmap(pd.DataFrame(confusion_matrix), annot=True, cmap=\"Blues\", fmt='g')\n",
    "plt.xlabel('Predicted Value')\n",
    "plt.ylabel('Actual Value')\n",
    "plt.title('Confusion Matrix')"
   ]
  },
  {
   "cell_type": "code",
   "execution_count": 119,
   "id": "seeing-proposal",
   "metadata": {},
   "outputs": [
    {
     "name": "stdout",
     "output_type": "stream",
     "text": [
      "Precision 0.0018181384646565805\n",
      "Recall 0.9807073954983923\n"
     ]
    }
   ],
   "source": [
    "#Evaluating the model using the metrics\n",
    "\n",
    "print(\"Precision\",metrics.precision_score(Y_test, Y_pred))\n",
    "print(\"Recall\",metrics.recall_score(Y_test, Y_pred))"
   ]
  },
  {
   "cell_type": "code",
   "execution_count": 120,
   "id": "atomic-april",
   "metadata": {},
   "outputs": [
    {
     "data": {
      "text/plain": [
       "0.0036295480915122125"
      ]
     },
     "execution_count": 120,
     "metadata": {},
     "output_type": "execute_result"
    }
   ],
   "source": [
    "#calculate the f1 score\n",
    "from sklearn.metrics import f1_score\n",
    "f1_score(Y_test, Y_pred)"
   ]
  }
 ],
 "metadata": {
  "kernelspec": {
   "display_name": "Python 3",
   "language": "python",
   "name": "python3"
  },
  "language_info": {
   "codemirror_mode": {
    "name": "ipython",
    "version": 3
   },
   "file_extension": ".py",
   "mimetype": "text/x-python",
   "name": "python",
   "nbconvert_exporter": "python",
   "pygments_lexer": "ipython3",
   "version": "3.6.7"
  }
 },
 "nbformat": 4,
 "nbformat_minor": 5
}
